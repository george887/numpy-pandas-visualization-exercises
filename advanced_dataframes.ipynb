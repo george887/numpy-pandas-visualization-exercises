{
 "cells": [
  {
   "cell_type": "code",
   "execution_count": null,
   "metadata": {},
   "outputs": [],
   "source": [
    "pip install mysqlclient"
   ]
  },
  {
   "cell_type": "code",
   "execution_count": null,
   "metadata": {},
   "outputs": [],
   "source": [
    "pip install pymysql"
   ]
  },
  {
   "cell_type": "code",
   "execution_count": null,
   "metadata": {},
   "outputs": [],
   "source": [
    "import pandas as pd\n",
    "import numpy as np\n",
    "\n",
    "import matplotlib.pyplot as plt\n",
    "%matplotlib inline\n",
    "\n",
    "from pydataset import data"
   ]
  },
  {
   "cell_type": "code",
   "execution_count": null,
   "metadata": {},
   "outputs": [],
   "source": [
    "from env import host, user, password\n",
    "\n",
    "url = f'mysql+pymysql://{user}:{password}@{host}/employees'"
   ]
  },
  {
   "cell_type": "code",
   "execution_count": null,
   "metadata": {
    "scrolled": true
   },
   "outputs": [],
   "source": [
    "query = \"\"\"SELECT * FROM salaries ORDER BY salary DESC LIMIT 10\"\"\"\n",
    "df = pd.read_sql(query, url)\n",
    "df"
   ]
  },
  {
   "cell_type": "code",
   "execution_count": null,
   "metadata": {},
   "outputs": [],
   "source": [
    "# 1 Load the mpg dataset. Read the documentation for it, and use the data to answer these questions:\n",
    "from pydataset import data\n",
    "mpg = data('mpg') # load the dataset and store it in a variable\n",
    "# data('mpg', show_doc=True) # view the documentation for the dataset\n",
    "cars = pd.DataFrame(mpg)"
   ]
  },
  {
   "cell_type": "code",
   "execution_count": null,
   "metadata": {},
   "outputs": [],
   "source": [
    "# On average, which manufacturer has the best miles per gallon?\n",
    "print(cars.info())\n",
    "manufacturers = cars.groupby(\"manufacturer\").mean()\n",
    "cars['average_mileage'] = (cars.cty + cars.hwy) / 2\n",
    "cars\n",
    "best_mpg = manufacturers.sort_values(by='average_mileage', ascending = False)\n",
    "best_mpg"
   ]
  },
  {
   "cell_type": "code",
   "execution_count": null,
   "metadata": {},
   "outputs": [],
   "source": [
    "best_mpg.head(1)"
   ]
  },
  {
   "cell_type": "code",
   "execution_count": null,
   "metadata": {},
   "outputs": [],
   "source": [
    "#1 B.How many different manufacturers are there?\n",
    "len(cars[\"manufacturer\"].value_counts())\n"
   ]
  },
  {
   "cell_type": "code",
   "execution_count": null,
   "metadata": {},
   "outputs": [],
   "source": [
    "#1 C. How many different models are there?\n",
    "len(cars[\"model\"].value_counts())"
   ]
  },
  {
   "cell_type": "code",
   "execution_count": null,
   "metadata": {},
   "outputs": [],
   "source": [
    "#1 D. Do automatic or manual cars have better miles per gallon? Manual trans has better mpg\n",
    "automatic = cars[cars.trans.str.contains(\"auto\")]\n",
    "print(automatic.average_mileage.mean())\n",
    "manual = cars[cars.trans.str.contains(\"m\")]\n",
    "print(manual.average_mileage.mean())\n",
    "\n"
   ]
  },
  {
   "cell_type": "code",
   "execution_count": null,
   "metadata": {},
   "outputs": [],
   "source": [
    "#2 Joining and Merging\n",
    "# Copy the users and roles dataframes from the examples above. What do you think a right join \n",
    "# would look like? An outer join? What happens if you drop the foreign keys from the dataframes \n",
    "# and try to merge them?\n",
    "users = pd.DataFrame({\n",
    "    'id': [1, 2, 3, 4, 5, 6],\n",
    "    'name': ['bob', 'joe', 'sally', 'adam', 'jane', 'mike'],\n",
    "    'role_id': [1, 2, 3, 3, np.nan, np.nan]\n",
    "})\n",
    "roles = pd.DataFrame({\n",
    "    'id': [1, 2, 3, 4],\n",
    "    'name': ['admin', 'author', 'reviewer', 'commenter']\n",
    "})\n",
    "roles\n",
    "# Right Join shows all the columns in the right data frame. If data is missing on the left DF\n",
    "#NaN will populate\n",
    "users_w_roles = pd.merge(users, roles, left_on='role_id', right_on='id', how='right')\n",
    "users_w_roles"
   ]
  },
  {
   "cell_type": "code",
   "execution_count": null,
   "metadata": {},
   "outputs": [],
   "source": [
    "#Outer Join\n",
    "users_w_roles = pd.merge(users, roles, left_on='role_id', right_on='id', how='outer')\n",
    "users_w_roles"
   ]
  },
  {
   "cell_type": "code",
   "execution_count": null,
   "metadata": {},
   "outputs": [],
   "source": [
    "# What happens if you drop the foreign keys from the dataframes and try to merge them?\n",
    "users = users.drop(columns=['role_id'])\n",
    "users\n",
    "pd.merge(users, roles, left_on = 'role_id', right_on='id') # cannot merge as we dropped role_id and \n",
    "                                                            # cannot merge on the role_id"
   ]
  },
  {
   "cell_type": "code",
   "execution_count": null,
   "metadata": {},
   "outputs": [],
   "source": [
    "#3 Getting data from SQL databases\n",
    "# A.Create a function named get_db_url. It should accept a username, hostname, password, and \n",
    "# database name and return a url formatted like in the examples in this lesson.\n",
    "\n",
    "def get_db_url(db):   ##Why does db need to be in the function? It will not work otherwise\n",
    "    from env import host, user, password\n",
    "    url = (f'mysql+pymysql://{user}:{password}@{host}/{db}')\n",
    "    return url"
   ]
  },
  {
   "cell_type": "code",
   "execution_count": null,
   "metadata": {},
   "outputs": [],
   "source": [
    "# Showing all databases\n",
    "query = '''show databases'''\n",
    "pd.read_sql(query, url)"
   ]
  },
  {
   "cell_type": "code",
   "execution_count": null,
   "metadata": {},
   "outputs": [],
   "source": [
    "# 3B. Use your function to obtain a connection to the employees database.\n",
    "pd.read_sql('SELECT * FROM employees LIMIT 5 OFFSET 50', url)\n",
    "# or\n",
    "pd.read_sql('SELECT * FROM employees LIMIT 5 OFFSET 50', get_db_url('employees'))"
   ]
  },
  {
   "cell_type": "code",
   "execution_count": null,
   "metadata": {},
   "outputs": [],
   "source": [
    "#3C. Intentionally make an error in your SQL query. What does the error message look like?\n",
    "def bad_url(un,pas,hos,db):\n",
    "    url = (f'mysql+pymysql://{user}:{password}@{host}/{db}')\n",
    "    return url\n",
    "pd.read_sql('SELECT * FROsM employees LIMIT 5 OFFSET 50', bad_url(user, host, password, 'employees'))\n",
    "\n",
    "# w/ bad FROsM statement \n",
    "#ProgrammingError: (pymysql.err.ProgrammingError) (1064, \"You have an error in your SQL syntax; check the manual that corresponds to your MySQL server version for the right syntax to use near 'FROsM employees LIMIT 5 OFFSET 50' at line 1\")\n",
    "#[SQL: SELECT * FROsM employees LIMIT 5 OFFSET 50]\n",
    "#(Background on this error at: http://sqlalche.me/e/f405)\n"
   ]
  },
  {
   "cell_type": "code",
   "execution_count": null,
   "metadata": {},
   "outputs": [],
   "source": [
    "#3D. Read the employees and titles tables into two separate dataframes\n",
    "employees = pd.read_sql('SELECT * FROM employees', get_db_url('employees'))\n",
    "employees\n",
    "titles = pd.read_sql('SELECT * FROM titles', get_db_url('employees'))\n",
    "titles"
   ]
  },
  {
   "cell_type": "code",
   "execution_count": null,
   "metadata": {},
   "outputs": [],
   "source": [
    "#3E. Visualize the number of employees with each title.\n",
    "sql = \"\"\"SHOW TABLES\"\"\"\n",
    "pd.read_sql(sql, url)\n",
    "print(titles.head(5)) # titles has emp_no, title, from_date, & to_date\n",
    "print(employees.head(5)) #employees has emp_no, birth_date, first_name, last_name, gender and hire_date"
   ]
  },
  {
   "cell_type": "code",
   "execution_count": null,
   "metadata": {},
   "outputs": [],
   "source": [
    "#going to join tables to get a count of employee titles\n",
    "current_titles = pd.read_sql('SELECT * FROM titles WHERE to_date > CURDATE()', get_db_url('employees'))\n",
    "current_titles # getting current titles WHERE to_date > CURDATE()\n",
    "#Joining current titles with employees\n",
    "emp_w_current_titles = pd.merge(current_titles, employees, left_on='emp_no', right_on='emp_no', how='right')\n",
    "#value counts shows us the counts of the distinct title names\n",
    "#getting value count of title on the merged tables\n",
    "emp_w_current_titles.title.value_counts()"
   ]
  },
  {
   "cell_type": "code",
   "execution_count": null,
   "metadata": {},
   "outputs": [],
   "source": [
    "#Alt way to get current employees titles\n",
    "cur_titles = titles[titles['to_date'] >= pd.to_datetime('today')] # current employees titles\n",
    "cur_titles\n",
    "#grouping by title in current titles. Doing a count on the emp_no\n",
    "count_titles = cur_titles.groupby('title').emp_no.agg(['count']) \n",
    "count_titles"
   ]
  },
  {
   "cell_type": "code",
   "execution_count": null,
   "metadata": {},
   "outputs": [],
   "source": [
    "#3F. Join the employees and titles dataframes together.\n",
    "# merging employees and titles on emp_no, showing all columns of data in each\n",
    "print(titles.head)\n",
    "print(employees.head)\n",
    "emp_w_titles = pd.merge(employees, titles, left_on = 'emp_no', right_on = 'emp_no', how = \"inner\")\n",
    "emp_w_titles\n"
   ]
  },
  {
   "cell_type": "code",
   "execution_count": null,
   "metadata": {},
   "outputs": [],
   "source": [
    "#3G Visualize how frequently employees change titles.\n",
    "emp_w_current_titles.plot.barh(width = .7)\n",
    "plt.title(\"Employees Current Titles\")\n",
    "plt.xlabel(\"Number of Employees\")\n",
    "#inverting y axis for horizontal bar chart\n",
    "plt.gca().invert_yaxis()\n",
    "\n",
    "plt.show()"
   ]
  },
  {
   "cell_type": "code",
   "execution_count": null,
   "metadata": {},
   "outputs": [],
   "source": [
    "#3H. For each title, find the hire date of the employee that was hired most recently with that title..max\n",
    "emp_w_titles.groupby('title')['hire_date'].max()"
   ]
  },
  {
   "cell_type": "code",
   "execution_count": null,
   "metadata": {},
   "outputs": [],
   "source": [
    "#3H alt\n",
    "titles.groupby('title').from_date.max()"
   ]
  },
  {
   "cell_type": "code",
   "execution_count": null,
   "metadata": {},
   "outputs": [],
   "source": [
    "#3I. Write the code necessary to create a cross tabulation of the number of titles by department. \n",
    "# (Hint: this will involve a combination of SQL and python/pandas code)\n",
    "#Making dept emp DF to get dept names to tie to titles\n",
    "dept_emp = pd.read_sql('SELECT * FROM dept_emp', get_db_url('employees'))\n",
    "dept_emp\n",
    "# Making depts DF to get departments from dept number\n",
    "depts = pd.read_sql('SELECT * FROM dept_emp', get_db_url('employees'))\n",
    "depts\n",
    "# Current titles DF. Created up top\n",
    "cur_titles = titles[titles['to_date'] >= pd.to_datetime('today')]\n",
    "# Current departments DF\n",
    "cur_dept = dept_emp[dept_emp['to_date'] >= pd.to_datetime('today')]\n",
    "# Joining depts and cur_dept to see current departments along with department numbers\n",
    "depts_n_cur_depts = pd.merge(depts,cur_dept, left_on = 'dept_no', right_on = \"dept_no\", how = 'inner')\n",
    "# Joining depts_n_cur_depts with cur_titles\n",
    "depts_w_titles = pd.merge(depts_n_cur_depts, cur_titles, left_on = 'emp_no', right_on = 'emp_no', how = 'inner')\n",
    "# Crosstab of dept_name and titles\n",
    "depts_w_titles_crossstab = pd.crosstab(dept_w_titles.dept_name,depts_w_titles.titles)\n",
    "depts_w_titles_crosstab\n",
    "\n"
   ]
  },
  {
   "cell_type": "code",
   "execution_count": null,
   "metadata": {},
   "outputs": [],
   "source": [
    "# 4 Use your get_db_url function to help you explore the data from the chipotle database. \n",
    "# Use the data to answer the following questions:\n",
    "orders = pd.read_sql('''SELECT * FROM orders''',get_db_url('chipotle'))\n",
    "orders.head()\n",
    "\n",
    "#A What is the total price for each order?\n",
    "#Making item price to show as a float\n",
    "orders['item_price'] = orders.item_price.str.replace('$','').astype(float)\n",
    "# sum up the total of quantity  * item price\n",
    "orders[\"total\"] = orders.quantity * orders.item_price\n",
    "orders"
   ]
  },
  {
   "cell_type": "code",
   "execution_count": null,
   "metadata": {},
   "outputs": [],
   "source": [
    "#B What are the most popular 3 items?\n",
    "orders.item_name.value_counts().head(3)\n",
    "\n"
   ]
  },
  {
   "cell_type": "code",
   "execution_count": null,
   "metadata": {},
   "outputs": [],
   "source": [
    "#C Which item has produced the most revenue?\n",
    "totals = orders.groupby('item_name').total.sum()\n",
    "totals = totals.sort_values(ascending=False).head(1)\n",
    "round(totals.max(),2)\n",
    "totals"
   ]
  },
  {
   "cell_type": "code",
   "execution_count": null,
   "metadata": {},
   "outputs": [],
   "source": []
  }
 ],
 "metadata": {
  "kernelspec": {
   "display_name": "Python 3",
   "language": "python",
   "name": "python3"
  },
  "language_info": {
   "codemirror_mode": {
    "name": "ipython",
    "version": 3
   },
   "file_extension": ".py",
   "mimetype": "text/x-python",
   "name": "python",
   "nbconvert_exporter": "python",
   "pygments_lexer": "ipython3",
   "version": "3.7.6"
  }
 },
 "nbformat": 4,
 "nbformat_minor": 4
}
