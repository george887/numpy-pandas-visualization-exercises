{
 "cells": [
  {
   "cell_type": "code",
   "execution_count": 1,
   "metadata": {},
   "outputs": [
    {
     "name": "stdout",
     "output_type": "stream",
     "text": [
      "Requirement already satisfied: mysqlclient in /usr/local/anaconda3/lib/python3.7/site-packages (2.0.1)\n",
      "Note: you may need to restart the kernel to use updated packages.\n"
     ]
    }
   ],
   "source": [
    "pip install mysqlclient"
   ]
  },
  {
   "cell_type": "code",
   "execution_count": 2,
   "metadata": {},
   "outputs": [
    {
     "name": "stdout",
     "output_type": "stream",
     "text": [
      "Requirement already satisfied: pymysql in /usr/local/anaconda3/lib/python3.7/site-packages (0.10.0)\n",
      "Note: you may need to restart the kernel to use updated packages.\n"
     ]
    }
   ],
   "source": [
    "pip install pymysql"
   ]
  },
  {
   "cell_type": "code",
   "execution_count": 3,
   "metadata": {},
   "outputs": [],
   "source": [
    "import pandas as pd\n",
    "import numpy as np"
   ]
  },
  {
   "cell_type": "code",
   "execution_count": 4,
   "metadata": {},
   "outputs": [],
   "source": [
    "from env import host, user, password\n",
    "\n",
    "url = f'mysql+pymysql://{user}:{password}@{host}/employees'"
   ]
  },
  {
   "cell_type": "code",
   "execution_count": 5,
   "metadata": {
    "scrolled": true
   },
   "outputs": [
    {
     "data": {
      "text/html": [
       "<div>\n",
       "<style scoped>\n",
       "    .dataframe tbody tr th:only-of-type {\n",
       "        vertical-align: middle;\n",
       "    }\n",
       "\n",
       "    .dataframe tbody tr th {\n",
       "        vertical-align: top;\n",
       "    }\n",
       "\n",
       "    .dataframe thead th {\n",
       "        text-align: right;\n",
       "    }\n",
       "</style>\n",
       "<table border=\"1\" class=\"dataframe\">\n",
       "  <thead>\n",
       "    <tr style=\"text-align: right;\">\n",
       "      <th></th>\n",
       "      <th>emp_no</th>\n",
       "      <th>salary</th>\n",
       "      <th>from_date</th>\n",
       "      <th>to_date</th>\n",
       "    </tr>\n",
       "  </thead>\n",
       "  <tbody>\n",
       "    <tr>\n",
       "      <th>0</th>\n",
       "      <td>43624</td>\n",
       "      <td>158220</td>\n",
       "      <td>2002-03-22</td>\n",
       "      <td>9999-01-01</td>\n",
       "    </tr>\n",
       "    <tr>\n",
       "      <th>1</th>\n",
       "      <td>43624</td>\n",
       "      <td>157821</td>\n",
       "      <td>2001-03-22</td>\n",
       "      <td>2002-03-22</td>\n",
       "    </tr>\n",
       "    <tr>\n",
       "      <th>2</th>\n",
       "      <td>254466</td>\n",
       "      <td>156286</td>\n",
       "      <td>2001-08-04</td>\n",
       "      <td>9999-01-01</td>\n",
       "    </tr>\n",
       "    <tr>\n",
       "      <th>3</th>\n",
       "      <td>47978</td>\n",
       "      <td>155709</td>\n",
       "      <td>2002-07-14</td>\n",
       "      <td>9999-01-01</td>\n",
       "    </tr>\n",
       "    <tr>\n",
       "      <th>4</th>\n",
       "      <td>253939</td>\n",
       "      <td>155513</td>\n",
       "      <td>2002-04-11</td>\n",
       "      <td>9999-01-01</td>\n",
       "    </tr>\n",
       "    <tr>\n",
       "      <th>5</th>\n",
       "      <td>109334</td>\n",
       "      <td>155377</td>\n",
       "      <td>2000-02-12</td>\n",
       "      <td>2001-02-11</td>\n",
       "    </tr>\n",
       "    <tr>\n",
       "      <th>6</th>\n",
       "      <td>109334</td>\n",
       "      <td>155190</td>\n",
       "      <td>2002-02-11</td>\n",
       "      <td>9999-01-01</td>\n",
       "    </tr>\n",
       "    <tr>\n",
       "      <th>7</th>\n",
       "      <td>109334</td>\n",
       "      <td>154888</td>\n",
       "      <td>2001-02-11</td>\n",
       "      <td>2002-02-11</td>\n",
       "    </tr>\n",
       "    <tr>\n",
       "      <th>8</th>\n",
       "      <td>109334</td>\n",
       "      <td>154885</td>\n",
       "      <td>1999-02-12</td>\n",
       "      <td>2000-02-12</td>\n",
       "    </tr>\n",
       "    <tr>\n",
       "      <th>9</th>\n",
       "      <td>80823</td>\n",
       "      <td>154459</td>\n",
       "      <td>2002-02-22</td>\n",
       "      <td>9999-01-01</td>\n",
       "    </tr>\n",
       "  </tbody>\n",
       "</table>\n",
       "</div>"
      ],
      "text/plain": [
       "   emp_no  salary   from_date     to_date\n",
       "0   43624  158220  2002-03-22  9999-01-01\n",
       "1   43624  157821  2001-03-22  2002-03-22\n",
       "2  254466  156286  2001-08-04  9999-01-01\n",
       "3   47978  155709  2002-07-14  9999-01-01\n",
       "4  253939  155513  2002-04-11  9999-01-01\n",
       "5  109334  155377  2000-02-12  2001-02-11\n",
       "6  109334  155190  2002-02-11  9999-01-01\n",
       "7  109334  154888  2001-02-11  2002-02-11\n",
       "8  109334  154885  1999-02-12  2000-02-12\n",
       "9   80823  154459  2002-02-22  9999-01-01"
      ]
     },
     "execution_count": 5,
     "metadata": {},
     "output_type": "execute_result"
    }
   ],
   "source": [
    "query = \"\"\"SELECT * FROM salaries ORDER BY salary DESC LIMIT 10\"\"\"\n",
    "df = pd.read_sql(query, url)\n",
    "df"
   ]
  },
  {
   "cell_type": "code",
   "execution_count": 6,
   "metadata": {},
   "outputs": [],
   "source": [
    "# 1 Load the mpg dataset. Read the documentation for it, and use the data to answer these questions:\n",
    "from pydataset import data\n",
    "mpg = data('mpg') # load the dataset and store it in a variable\n",
    "# data('mpg', show_doc=True) # view the documentation for the dataset\n",
    "cars = pd.DataFrame(mpg)"
   ]
  },
  {
   "cell_type": "code",
   "execution_count": 8,
   "metadata": {},
   "outputs": [
    {
     "name": "stdout",
     "output_type": "stream",
     "text": [
      "<class 'pandas.core.frame.DataFrame'>\n",
      "Int64Index: 234 entries, 1 to 234\n",
      "Data columns (total 12 columns):\n",
      " #   Column           Non-Null Count  Dtype  \n",
      "---  ------           --------------  -----  \n",
      " 0   manufacturer     234 non-null    object \n",
      " 1   model            234 non-null    object \n",
      " 2   displ            234 non-null    float64\n",
      " 3   year             234 non-null    int64  \n",
      " 4   cyl              234 non-null    int64  \n",
      " 5   trans            234 non-null    object \n",
      " 6   drv              234 non-null    object \n",
      " 7   cty              234 non-null    int64  \n",
      " 8   hwy              234 non-null    int64  \n",
      " 9   fl               234 non-null    object \n",
      " 10  class            234 non-null    object \n",
      " 11  average_mileage  234 non-null    float64\n",
      "dtypes: float64(2), int64(4), object(6)\n",
      "memory usage: 23.8+ KB\n",
      "None\n"
     ]
    }
   ],
   "source": [
    "# On average, which manufacturer has the best miles per gallon?\n",
    "print(cars.info())\n",
    "manufacturers = cars.groupby(\"manufacturer\").mean()\n",
    "cars['average_mileage'] = (cars.cty + cars.hwy) / 2\n",
    "best_mpg = manufacturers.sort_values(by='average_mileage', ascending = False)"
   ]
  },
  {
   "cell_type": "code",
   "execution_count": 9,
   "metadata": {},
   "outputs": [
    {
     "data": {
      "text/html": [
       "<div>\n",
       "<style scoped>\n",
       "    .dataframe tbody tr th:only-of-type {\n",
       "        vertical-align: middle;\n",
       "    }\n",
       "\n",
       "    .dataframe tbody tr th {\n",
       "        vertical-align: top;\n",
       "    }\n",
       "\n",
       "    .dataframe thead th {\n",
       "        text-align: right;\n",
       "    }\n",
       "</style>\n",
       "<table border=\"1\" class=\"dataframe\">\n",
       "  <thead>\n",
       "    <tr style=\"text-align: right;\">\n",
       "      <th></th>\n",
       "      <th>displ</th>\n",
       "      <th>year</th>\n",
       "      <th>cyl</th>\n",
       "      <th>cty</th>\n",
       "      <th>hwy</th>\n",
       "      <th>average_mileage</th>\n",
       "    </tr>\n",
       "    <tr>\n",
       "      <th>manufacturer</th>\n",
       "      <th></th>\n",
       "      <th></th>\n",
       "      <th></th>\n",
       "      <th></th>\n",
       "      <th></th>\n",
       "      <th></th>\n",
       "    </tr>\n",
       "  </thead>\n",
       "  <tbody>\n",
       "    <tr>\n",
       "      <th>honda</th>\n",
       "      <td>1.711111</td>\n",
       "      <td>2003.0</td>\n",
       "      <td>4.0</td>\n",
       "      <td>24.444444</td>\n",
       "      <td>32.555556</td>\n",
       "      <td>28.5</td>\n",
       "    </tr>\n",
       "  </tbody>\n",
       "</table>\n",
       "</div>"
      ],
      "text/plain": [
       "                 displ    year  cyl        cty        hwy  average_mileage\n",
       "manufacturer                                                              \n",
       "honda         1.711111  2003.0  4.0  24.444444  32.555556             28.5"
      ]
     },
     "execution_count": 9,
     "metadata": {},
     "output_type": "execute_result"
    }
   ],
   "source": [
    "best_mpg.head(1)"
   ]
  },
  {
   "cell_type": "code",
   "execution_count": 10,
   "metadata": {},
   "outputs": [
    {
     "data": {
      "text/plain": [
       "15"
      ]
     },
     "execution_count": 10,
     "metadata": {},
     "output_type": "execute_result"
    }
   ],
   "source": [
    "#1 B.How many different manufacturers are there?\n",
    "len(cars[\"manufacturer\"].value_counts())\n"
   ]
  },
  {
   "cell_type": "code",
   "execution_count": 11,
   "metadata": {},
   "outputs": [
    {
     "data": {
      "text/plain": [
       "38"
      ]
     },
     "execution_count": 11,
     "metadata": {},
     "output_type": "execute_result"
    }
   ],
   "source": [
    "#1 C. How many different models are there?\n",
    "len(cars[\"model\"].value_counts())"
   ]
  },
  {
   "cell_type": "code",
   "execution_count": 12,
   "metadata": {},
   "outputs": [
    {
     "name": "stdout",
     "output_type": "stream",
     "text": [
      "19.130573248407643\n",
      "22.227272727272727\n"
     ]
    }
   ],
   "source": [
    "#1 D. Do automatic or manual cars have better miles per gallon? Manual trans has better mpg\n",
    "automatic = cars[cars.trans.str.contains(\"auto\")]\n",
    "print(automatic.average_mileage.mean())\n",
    "manual = cars[cars.trans.str.contains(\"m\")]\n",
    "print(manual.average_mileage.mean())\n",
    "\n"
   ]
  },
  {
   "cell_type": "code",
   "execution_count": null,
   "metadata": {},
   "outputs": [],
   "source": [
    "#2 Joining and Merging\n",
    "# Copy the users and roles dataframes from the examples above. What do you think a right join \n",
    "# would look like? An outer join? What happens if you drop the foreign keys from the dataframes \n",
    "# and try to merge them?\n",
    "users = pd.DataFrame({\n",
    "    'id': [1, 2, 3, 4, 5, 6],\n",
    "    'name': ['bob', 'joe', 'sally', 'adam', 'jane', 'mike'],\n",
    "    'role_id': [1, 2, 3, 3, np.nan, np.nan]\n",
    "})\n",
    "roles = pd.DataFrame({\n",
    "    'id': [1, 2, 3, 4],\n",
    "    'name': ['admin', 'author', 'reviewer', 'commenter']\n",
    "})\n",
    "roles\n",
    "# Right Join shows all the columns in the right data frame. If data is missing on the left DF\n",
    "#NaN will populate\n",
    "users_w_roles = pd.merge(users, roles, left_on='role_id', right_on='id', how='right')\n",
    "users_w_roles"
   ]
  },
  {
   "cell_type": "code",
   "execution_count": null,
   "metadata": {},
   "outputs": [],
   "source": [
    "#Outer Join\n",
    "users_w_roles = pd.merge(users, roles, left_on='role_id', right_on='id', how='outer')\n",
    "users_w_roles"
   ]
  },
  {
   "cell_type": "code",
   "execution_count": null,
   "metadata": {},
   "outputs": [],
   "source": [
    "# What happens if you drop the foreign keys from the dataframes and try to merge them?\n",
    "users = users.drop(columns=['role_id'])\n",
    "users\n",
    "pd.merge(users, roles, left_on = 'role_id', right_on='id') # cannot merge as we dropped role_id and \n",
    "                                                            # cannot merge on the role_id"
   ]
  },
  {
   "cell_type": "code",
   "execution_count": 13,
   "metadata": {},
   "outputs": [],
   "source": [
    "#3 Getting data from SQL databases\n",
    "# A.Create a function named get_db_url. It should accept a username, hostname, password, and \n",
    "# database name and return a url formatted like in the examples in this lesson.\n",
    "\n",
    "def get_db_url(db):   ##Why does db need to be in the function? It will not work otherwise\n",
    "    from env import host, user, password\n",
    "    url = (f'mysql+pymysql://{user}:{password}@{host}/{db}')\n",
    "    return url"
   ]
  },
  {
   "cell_type": "code",
   "execution_count": 14,
   "metadata": {},
   "outputs": [
    {
     "data": {
      "text/html": [
       "<div>\n",
       "<style scoped>\n",
       "    .dataframe tbody tr th:only-of-type {\n",
       "        vertical-align: middle;\n",
       "    }\n",
       "\n",
       "    .dataframe tbody tr th {\n",
       "        vertical-align: top;\n",
       "    }\n",
       "\n",
       "    .dataframe thead th {\n",
       "        text-align: right;\n",
       "    }\n",
       "</style>\n",
       "<table border=\"1\" class=\"dataframe\">\n",
       "  <thead>\n",
       "    <tr style=\"text-align: right;\">\n",
       "      <th></th>\n",
       "      <th>Database</th>\n",
       "    </tr>\n",
       "  </thead>\n",
       "  <tbody>\n",
       "    <tr>\n",
       "      <th>0</th>\n",
       "      <td>information_schema</td>\n",
       "    </tr>\n",
       "    <tr>\n",
       "      <th>1</th>\n",
       "      <td>albums_db</td>\n",
       "    </tr>\n",
       "    <tr>\n",
       "      <th>2</th>\n",
       "      <td>chipotle</td>\n",
       "    </tr>\n",
       "    <tr>\n",
       "      <th>3</th>\n",
       "      <td>darden_1043</td>\n",
       "    </tr>\n",
       "    <tr>\n",
       "      <th>4</th>\n",
       "      <td>elo_db</td>\n",
       "    </tr>\n",
       "    <tr>\n",
       "      <th>5</th>\n",
       "      <td>employees</td>\n",
       "    </tr>\n",
       "    <tr>\n",
       "      <th>6</th>\n",
       "      <td>fruits_db</td>\n",
       "    </tr>\n",
       "    <tr>\n",
       "      <th>7</th>\n",
       "      <td>iris_db</td>\n",
       "    </tr>\n",
       "    <tr>\n",
       "      <th>8</th>\n",
       "      <td>join_example_db</td>\n",
       "    </tr>\n",
       "    <tr>\n",
       "      <th>9</th>\n",
       "      <td>mall_customers</td>\n",
       "    </tr>\n",
       "    <tr>\n",
       "      <th>10</th>\n",
       "      <td>mysql</td>\n",
       "    </tr>\n",
       "    <tr>\n",
       "      <th>11</th>\n",
       "      <td>numbers</td>\n",
       "    </tr>\n",
       "    <tr>\n",
       "      <th>12</th>\n",
       "      <td>quotes_db</td>\n",
       "    </tr>\n",
       "    <tr>\n",
       "      <th>13</th>\n",
       "      <td>sakila</td>\n",
       "    </tr>\n",
       "    <tr>\n",
       "      <th>14</th>\n",
       "      <td>svi_db</td>\n",
       "    </tr>\n",
       "    <tr>\n",
       "      <th>15</th>\n",
       "      <td>telco_churn</td>\n",
       "    </tr>\n",
       "    <tr>\n",
       "      <th>16</th>\n",
       "      <td>titanic_db</td>\n",
       "    </tr>\n",
       "    <tr>\n",
       "      <th>17</th>\n",
       "      <td>tsa_item_demand</td>\n",
       "    </tr>\n",
       "    <tr>\n",
       "      <th>18</th>\n",
       "      <td>world</td>\n",
       "    </tr>\n",
       "    <tr>\n",
       "      <th>19</th>\n",
       "      <td>zillow</td>\n",
       "    </tr>\n",
       "  </tbody>\n",
       "</table>\n",
       "</div>"
      ],
      "text/plain": [
       "              Database\n",
       "0   information_schema\n",
       "1            albums_db\n",
       "2             chipotle\n",
       "3          darden_1043\n",
       "4               elo_db\n",
       "5            employees\n",
       "6            fruits_db\n",
       "7              iris_db\n",
       "8      join_example_db\n",
       "9       mall_customers\n",
       "10               mysql\n",
       "11             numbers\n",
       "12           quotes_db\n",
       "13              sakila\n",
       "14              svi_db\n",
       "15         telco_churn\n",
       "16          titanic_db\n",
       "17     tsa_item_demand\n",
       "18               world\n",
       "19              zillow"
      ]
     },
     "execution_count": 14,
     "metadata": {},
     "output_type": "execute_result"
    }
   ],
   "source": [
    "# Showing all databases\n",
    "query = '''show databases'''\n",
    "pd.read_sql(query, url)"
   ]
  },
  {
   "cell_type": "code",
   "execution_count": null,
   "metadata": {},
   "outputs": [],
   "source": [
    "# 3B. Use your function to obtain a connection to the employees database.\n",
    "pd.read_sql('SELECT * FROM employees LIMIT 5 OFFSET 50', url)\n",
    "# or\n",
    "pd.read_sql('SELECT * FROM employees LIMIT 5 OFFSET 50', get_db_url('employees'))"
   ]
  },
  {
   "cell_type": "code",
   "execution_count": null,
   "metadata": {},
   "outputs": [],
   "source": [
    "#3C. Intentionally make an error in your SQL query. What does the error message look like?\n",
    "def bad_url(un,pas,hos,db):\n",
    "    url = (f'mysql+pymysql://{user}:{password}@{host}/{db}')\n",
    "    return url\n",
    "pd.read_sql('SELECT * FROsM employees LIMIT 5 OFFSET 50', bad_url(user, host, password, 'employees'))\n",
    "\n",
    "# w/ bad FROsM statement \n",
    "#ProgrammingError: (pymysql.err.ProgrammingError) (1064, \"You have an error in your SQL syntax; check the manual that corresponds to your MySQL server version for the right syntax to use near 'FROsM employees LIMIT 5 OFFSET 50' at line 1\")\n",
    "#[SQL: SELECT * FROsM employees LIMIT 5 OFFSET 50]\n",
    "#(Background on this error at: http://sqlalche.me/e/f405)\n"
   ]
  },
  {
   "cell_type": "code",
   "execution_count": null,
   "metadata": {},
   "outputs": [],
   "source": [
    "#3D. Read the employees and titles tables into two separate dataframes\n",
    "employees = pd.read_sql('SELECT * FROM employees', get_db_url('employees'))\n",
    "employees\n",
    "titles = pd.read_sql('SELECT * FROM titles', get_db_url('employees'))\n",
    "titles"
   ]
  },
  {
   "cell_type": "code",
   "execution_count": null,
   "metadata": {},
   "outputs": [],
   "source": [
    "#3E. Visualize the number of employees with each title.\n",
    "sql = \"\"\"SHOW TABLES\"\"\"\n",
    "pd.read_sql(sql, url)\n",
    "print(titles.head(5)) # titles has emp_no, title, from_date, & to_date\n",
    "print(employees.head(5)) #employees has emp_no, birth_date, first_name, last_name, gender and hire_date"
   ]
  },
  {
   "cell_type": "code",
   "execution_count": null,
   "metadata": {},
   "outputs": [],
   "source": [
    "#going to join tables to get a count of employee titles\n",
    "current_titles = pd.read_sql('SELECT * FROM titles WHERE to_date > CURDATE()', url)\n",
    "current_titles # getting current titles WHERE to_date > CURDATE()\n",
    "#Joining current titles with employees\n",
    "emp_w_current_titles = pd.merge(current_titles, employees, left_on='emp_no', right_on='emp_no', how='right')\n",
    "#value counts shows us the counts of the distinct title names\n",
    "#getting value count of title on the merged tables\n",
    "emp_w_current_titles.title.value_counts()"
   ]
  },
  {
   "cell_type": "code",
   "execution_count": null,
   "metadata": {},
   "outputs": [],
   "source": [
    "#Alt way to get current employees titles\n",
    "cur_titles = titles[titles['to_date'] >= pd.to_datetime('today')] # current employees titles\n",
    "cur_titles\n",
    "#grouping by title in current titles. Doing a count on the emp_no\n",
    "count_titles = cur_titles.groupby('title').emp_no.agg(['count']) \n",
    "count_titles"
   ]
  },
  {
   "cell_type": "code",
   "execution_count": null,
   "metadata": {},
   "outputs": [],
   "source": [
    "#3F. Join the employees and titles dataframes together.\n",
    "# merging employees and titles on emp_no, showing all columns of data in each\n",
    "print(titles.head)\n",
    "print(employees.head)\n",
    "emp_w_titles = pd.merge(employees, titles, left_on = 'emp_no', right_on = 'emp_no', how = \"inner\")\n",
    "emp_w_titles"
   ]
  },
  {
   "cell_type": "code",
   "execution_count": null,
   "metadata": {},
   "outputs": [],
   "source": [
    "#3G Visualize how frequently employees change titles."
   ]
  },
  {
   "cell_type": "code",
   "execution_count": null,
   "metadata": {},
   "outputs": [],
   "source": [
    "#3H. For each title, find the hire date of the employee that was hired most recently with that title..max\n",
    "emp_w_titles.groupby('title')['hire_date'].max()"
   ]
  },
  {
   "cell_type": "code",
   "execution_count": null,
   "metadata": {},
   "outputs": [],
   "source": [
    "#3H alt\n",
    "titles.groupby('title').from_date.max()"
   ]
  },
  {
   "cell_type": "code",
   "execution_count": null,
   "metadata": {},
   "outputs": [],
   "source": [
    "#3I. Write the code necessary to create a cross tabulation of the number of titles by department. \n",
    "# (Hint: this will involve a combination of SQL and python/pandas code)\n",
    "#Making dept emp DF to get dept names to tie to titles\n",
    "dept_emp = pd.read_sql('SELECT * FROM dept_emp', get_db_url('employees'))\n",
    "dept_emp\n",
    "# Making depts DF to get departments from dept number\n",
    "depts = pd.read_sql('SELECT * FROM dept_emp', get_db_url('employees'))\n",
    "depts\n",
    "# Current titles DF. Created up top\n",
    "cur_titles = titles[titles['to_date'] >= pd.to_datetime('today')]\n",
    "# Current departments DF\n",
    "cur_dept = dept_emp[dept_emp['to_date'] >= pd.to_datetime('today')]\n",
    "# Joining depts and cur_dept to see current departments along with department numbers\n",
    "depts_n_cur_depts = pd.merge(depts,cur_dept, left_on = 'dept_no', right_on = \"dept_no\", how = 'inner')\n",
    "# Joining depts_n_cur_depts with cur_titles\n",
    "depts_w_titles = pd.merge(depts_n_cur_depts, cur_titles, left_on = 'emp_no', right_on = 'emp_no', how = 'inner')\n",
    "# Crosstab of dept_name and titles\n",
    "depts_w_titles_crossstab = pd.crosstab(dept_w_titles.dept_name,depts_w_titles.titles)\n",
    "depts_w_titles_crosstab\n",
    "\n"
   ]
  },
  {
   "cell_type": "code",
   "execution_count": 19,
   "metadata": {},
   "outputs": [
    {
     "data": {
      "text/html": [
       "<div>\n",
       "<style scoped>\n",
       "    .dataframe tbody tr th:only-of-type {\n",
       "        vertical-align: middle;\n",
       "    }\n",
       "\n",
       "    .dataframe tbody tr th {\n",
       "        vertical-align: top;\n",
       "    }\n",
       "\n",
       "    .dataframe thead th {\n",
       "        text-align: right;\n",
       "    }\n",
       "</style>\n",
       "<table border=\"1\" class=\"dataframe\">\n",
       "  <thead>\n",
       "    <tr style=\"text-align: right;\">\n",
       "      <th></th>\n",
       "      <th>id</th>\n",
       "      <th>order_id</th>\n",
       "      <th>quantity</th>\n",
       "      <th>item_name</th>\n",
       "      <th>choice_description</th>\n",
       "      <th>item_price</th>\n",
       "      <th>total</th>\n",
       "    </tr>\n",
       "  </thead>\n",
       "  <tbody>\n",
       "    <tr>\n",
       "      <th>0</th>\n",
       "      <td>1</td>\n",
       "      <td>1</td>\n",
       "      <td>1</td>\n",
       "      <td>Chips and Fresh Tomato Salsa</td>\n",
       "      <td>nan</td>\n",
       "      <td>2.39</td>\n",
       "      <td>2.39</td>\n",
       "    </tr>\n",
       "    <tr>\n",
       "      <th>1</th>\n",
       "      <td>2</td>\n",
       "      <td>1</td>\n",
       "      <td>1</td>\n",
       "      <td>Izze</td>\n",
       "      <td>[Clementine]</td>\n",
       "      <td>3.39</td>\n",
       "      <td>3.39</td>\n",
       "    </tr>\n",
       "    <tr>\n",
       "      <th>2</th>\n",
       "      <td>3</td>\n",
       "      <td>1</td>\n",
       "      <td>1</td>\n",
       "      <td>Nantucket Nectar</td>\n",
       "      <td>[Apple]</td>\n",
       "      <td>3.39</td>\n",
       "      <td>3.39</td>\n",
       "    </tr>\n",
       "    <tr>\n",
       "      <th>3</th>\n",
       "      <td>4</td>\n",
       "      <td>1</td>\n",
       "      <td>1</td>\n",
       "      <td>Chips and Tomatillo-Green Chili Salsa</td>\n",
       "      <td>nan</td>\n",
       "      <td>2.39</td>\n",
       "      <td>2.39</td>\n",
       "    </tr>\n",
       "    <tr>\n",
       "      <th>4</th>\n",
       "      <td>5</td>\n",
       "      <td>2</td>\n",
       "      <td>2</td>\n",
       "      <td>Chicken Bowl</td>\n",
       "      <td>[Tomatillo-Red Chili Salsa (Hot), [Black Beans, Rice, Cheese, Sour Cream]]</td>\n",
       "      <td>16.98</td>\n",
       "      <td>33.96</td>\n",
       "    </tr>\n",
       "    <tr>\n",
       "      <th>...</th>\n",
       "      <td>...</td>\n",
       "      <td>...</td>\n",
       "      <td>...</td>\n",
       "      <td>...</td>\n",
       "      <td>...</td>\n",
       "      <td>...</td>\n",
       "      <td>...</td>\n",
       "    </tr>\n",
       "    <tr>\n",
       "      <th>4617</th>\n",
       "      <td>4618</td>\n",
       "      <td>1833</td>\n",
       "      <td>1</td>\n",
       "      <td>Steak Burrito</td>\n",
       "      <td>[Fresh Tomato Salsa, [Rice, Black Beans, Sour Cream, Cheese, Lettuce, Guacamole]]</td>\n",
       "      <td>11.75</td>\n",
       "      <td>11.75</td>\n",
       "    </tr>\n",
       "    <tr>\n",
       "      <th>4618</th>\n",
       "      <td>4619</td>\n",
       "      <td>1833</td>\n",
       "      <td>1</td>\n",
       "      <td>Steak Burrito</td>\n",
       "      <td>[Fresh Tomato Salsa, [Rice, Sour Cream, Cheese, Lettuce, Guacamole]]</td>\n",
       "      <td>11.75</td>\n",
       "      <td>11.75</td>\n",
       "    </tr>\n",
       "    <tr>\n",
       "      <th>4619</th>\n",
       "      <td>4620</td>\n",
       "      <td>1834</td>\n",
       "      <td>1</td>\n",
       "      <td>Chicken Salad Bowl</td>\n",
       "      <td>[Fresh Tomato Salsa, [Fajita Vegetables, Pinto Beans, Guacamole, Lettuce]]</td>\n",
       "      <td>11.25</td>\n",
       "      <td>11.25</td>\n",
       "    </tr>\n",
       "    <tr>\n",
       "      <th>4620</th>\n",
       "      <td>4621</td>\n",
       "      <td>1834</td>\n",
       "      <td>1</td>\n",
       "      <td>Chicken Salad Bowl</td>\n",
       "      <td>[Fresh Tomato Salsa, [Fajita Vegetables, Lettuce]]</td>\n",
       "      <td>8.75</td>\n",
       "      <td>8.75</td>\n",
       "    </tr>\n",
       "    <tr>\n",
       "      <th>4621</th>\n",
       "      <td>4622</td>\n",
       "      <td>1834</td>\n",
       "      <td>1</td>\n",
       "      <td>Chicken Salad Bowl</td>\n",
       "      <td>[Fresh Tomato Salsa, [Fajita Vegetables, Pinto Beans, Lettuce]]</td>\n",
       "      <td>8.75</td>\n",
       "      <td>8.75</td>\n",
       "    </tr>\n",
       "  </tbody>\n",
       "</table>\n",
       "<p>4622 rows × 7 columns</p>\n",
       "</div>"
      ],
      "text/plain": [
       "        id  order_id  quantity                              item_name  \\\n",
       "0        1         1         1           Chips and Fresh Tomato Salsa   \n",
       "1        2         1         1                                   Izze   \n",
       "2        3         1         1                       Nantucket Nectar   \n",
       "3        4         1         1  Chips and Tomatillo-Green Chili Salsa   \n",
       "4        5         2         2                           Chicken Bowl   \n",
       "...    ...       ...       ...                                    ...   \n",
       "4617  4618      1833         1                          Steak Burrito   \n",
       "4618  4619      1833         1                          Steak Burrito   \n",
       "4619  4620      1834         1                     Chicken Salad Bowl   \n",
       "4620  4621      1834         1                     Chicken Salad Bowl   \n",
       "4621  4622      1834         1                     Chicken Salad Bowl   \n",
       "\n",
       "                                                                     choice_description  \\\n",
       "0                                                                                   nan   \n",
       "1                                                                          [Clementine]   \n",
       "2                                                                               [Apple]   \n",
       "3                                                                                   nan   \n",
       "4            [Tomatillo-Red Chili Salsa (Hot), [Black Beans, Rice, Cheese, Sour Cream]]   \n",
       "...                                                                                 ...   \n",
       "4617  [Fresh Tomato Salsa, [Rice, Black Beans, Sour Cream, Cheese, Lettuce, Guacamole]]   \n",
       "4618               [Fresh Tomato Salsa, [Rice, Sour Cream, Cheese, Lettuce, Guacamole]]   \n",
       "4619         [Fresh Tomato Salsa, [Fajita Vegetables, Pinto Beans, Guacamole, Lettuce]]   \n",
       "4620                                 [Fresh Tomato Salsa, [Fajita Vegetables, Lettuce]]   \n",
       "4621                    [Fresh Tomato Salsa, [Fajita Vegetables, Pinto Beans, Lettuce]]   \n",
       "\n",
       "      item_price  total  \n",
       "0           2.39   2.39  \n",
       "1           3.39   3.39  \n",
       "2           3.39   3.39  \n",
       "3           2.39   2.39  \n",
       "4          16.98  33.96  \n",
       "...          ...    ...  \n",
       "4617       11.75  11.75  \n",
       "4618       11.75  11.75  \n",
       "4619       11.25  11.25  \n",
       "4620        8.75   8.75  \n",
       "4621        8.75   8.75  \n",
       "\n",
       "[4622 rows x 7 columns]"
      ]
     },
     "execution_count": 19,
     "metadata": {},
     "output_type": "execute_result"
    }
   ],
   "source": [
    "# 4 Use your get_db_url function to help you explore the data from the chipotle database. \n",
    "# Use the data to answer the following questions:\n",
    "orders = pd.read_sql('''SELECT * FROM orders''',get_db_url('chipotle'))\n",
    "orders.head()\n",
    "\n",
    "#A What is the total price for each order?\n",
    "#Making item price to show as a float\n",
    "orders['item_price'] = orders.item_price.str.replace('$','').astype(float)\n",
    "# sum up the total of quantity  * item price\n",
    "orders[\"total\"] = orders.quantity * orders.item_price\n",
    "orders"
   ]
  },
  {
   "cell_type": "code",
   "execution_count": 20,
   "metadata": {},
   "outputs": [
    {
     "data": {
      "text/plain": [
       "Chicken Bowl           726\n",
       "Chicken Burrito        553\n",
       "Chips and Guacamole    479\n",
       "Name: item_name, dtype: int64"
      ]
     },
     "execution_count": 20,
     "metadata": {},
     "output_type": "execute_result"
    }
   ],
   "source": [
    "#B What are the most popular 3 items?\n",
    "orders.item_name.value_counts().head(3)\n",
    "\n"
   ]
  },
  {
   "cell_type": "code",
   "execution_count": 30,
   "metadata": {},
   "outputs": [
    {
     "data": {
      "text/plain": [
       "item_name\n",
       "6 Pack Soft Drink                         369.93\n",
       "Barbacoa Bowl                             672.36\n",
       "Barbacoa Burrito                          894.75\n",
       "Barbacoa Crispy Tacos                     138.71\n",
       "Barbacoa Salad Bowl                       106.40\n",
       "Barbacoa Soft Tacos                       250.46\n",
       "Bottled Water                             649.18\n",
       "Bowl                                       74.00\n",
       "Burrito                                    44.40\n",
       "Canned Soda                               191.84\n",
       "Canned Soft Drink                         603.75\n",
       "Carnitas Bowl                             830.71\n",
       "Carnitas Burrito                          616.33\n",
       "Carnitas Crispy Tacos                      95.94\n",
       "Carnitas Salad                              8.99\n",
       "Carnitas Salad Bowl                        66.34\n",
       "Carnitas Soft Tacos                       375.94\n",
       "Chicken Bowl                             8044.63\n",
       "Chicken Burrito                          6387.06\n",
       "Chicken Crispy Tacos                      524.11\n",
       "Chicken Salad                              81.09\n",
       "Chicken Salad Bowl                       1506.25\n",
       "Chicken Soft Tacos                       1199.01\n",
       "Chips                                     580.34\n",
       "Chips and Fresh Tomato Salsa             1033.96\n",
       "Chips and Guacamole                      2475.62\n",
       "Chips and Mild Fresh Tomato Salsa           3.00\n",
       "Chips and Roasted Chili Corn Salsa         73.75\n",
       "Chips and Roasted Chili-Corn Salsa         43.02\n",
       "Chips and Tomatillo Green Chili Salsa     144.55\n",
       "Chips and Tomatillo Red Chili Salsa       159.30\n",
       "Chips and Tomatillo-Green Chili Salsa      88.43\n",
       "Chips and Tomatillo-Red Chili Salsa        93.21\n",
       "Crispy Tacos                               14.80\n",
       "Izze                                       67.80\n",
       "Nantucket Nectar                          111.87\n",
       "Salad                                      14.80\n",
       "Side of Chips                             290.68\n",
       "Steak Bowl                               2479.81\n",
       "Steak Burrito                            4236.13\n",
       "Steak Crispy Tacos                        375.32\n",
       "Steak Salad                                35.66\n",
       "Steak Salad Bowl                          391.15\n",
       "Steak Soft Tacos                          554.55\n",
       "Veggie Bowl                               901.95\n",
       "Veggie Burrito                           1002.27\n",
       "Veggie Crispy Tacos                         8.49\n",
       "Veggie Salad                               50.94\n",
       "Veggie Salad Bowl                         182.50\n",
       "Veggie Soft Tacos                          90.94\n",
       "Name: total, dtype: float64"
      ]
     },
     "execution_count": 30,
     "metadata": {},
     "output_type": "execute_result"
    }
   ],
   "source": [
    "#C Which item has produced the most revenue?\n",
    "totals = orders.groupby('item_name').total.sum()\n",
    "totals\n",
    "round(totals.max(),2)"
   ]
  },
  {
   "cell_type": "code",
   "execution_count": 25,
   "metadata": {},
   "outputs": [
    {
     "data": {
      "text/plain": [
       "pandas.core.series.Series"
      ]
     },
     "execution_count": 25,
     "metadata": {},
     "output_type": "execute_result"
    }
   ],
   "source": [
    "type(totals)"
   ]
  },
  {
   "cell_type": "code",
   "execution_count": 28,
   "metadata": {},
   "outputs": [
    {
     "ename": "KeyError",
     "evalue": "8044.629999999975",
     "output_type": "error",
     "traceback": [
      "\u001b[0;31m---------------------------------------------------------------------------\u001b[0m",
      "\u001b[0;31mKeyError\u001b[0m                                  Traceback (most recent call last)",
      "\u001b[0;32m/usr/local/anaconda3/lib/python3.7/site-packages/pandas/core/indexes/base.py\u001b[0m in \u001b[0;36mget_loc\u001b[0;34m(self, key, method, tolerance)\u001b[0m\n\u001b[1;32m   2645\u001b[0m             \u001b[0;32mtry\u001b[0m\u001b[0;34m:\u001b[0m\u001b[0;34m\u001b[0m\u001b[0;34m\u001b[0m\u001b[0m\n\u001b[0;32m-> 2646\u001b[0;31m                 \u001b[0;32mreturn\u001b[0m \u001b[0mself\u001b[0m\u001b[0;34m.\u001b[0m\u001b[0m_engine\u001b[0m\u001b[0;34m.\u001b[0m\u001b[0mget_loc\u001b[0m\u001b[0;34m(\u001b[0m\u001b[0mkey\u001b[0m\u001b[0;34m)\u001b[0m\u001b[0;34m\u001b[0m\u001b[0;34m\u001b[0m\u001b[0m\n\u001b[0m\u001b[1;32m   2647\u001b[0m             \u001b[0;32mexcept\u001b[0m \u001b[0mKeyError\u001b[0m\u001b[0;34m:\u001b[0m\u001b[0;34m\u001b[0m\u001b[0;34m\u001b[0m\u001b[0m\n",
      "\u001b[0;32mpandas/_libs/index.pyx\u001b[0m in \u001b[0;36mpandas._libs.index.IndexEngine.get_loc\u001b[0;34m()\u001b[0m\n",
      "\u001b[0;32mpandas/_libs/index.pyx\u001b[0m in \u001b[0;36mpandas._libs.index.IndexEngine.get_loc\u001b[0;34m()\u001b[0m\n",
      "\u001b[0;32mpandas/_libs/hashtable_class_helper.pxi\u001b[0m in \u001b[0;36mpandas._libs.hashtable.PyObjectHashTable.get_item\u001b[0;34m()\u001b[0m\n",
      "\u001b[0;32mpandas/_libs/hashtable_class_helper.pxi\u001b[0m in \u001b[0;36mpandas._libs.hashtable.PyObjectHashTable.get_item\u001b[0;34m()\u001b[0m\n",
      "\u001b[0;31mKeyError\u001b[0m: 8044.629999999975",
      "\nDuring handling of the above exception, another exception occurred:\n",
      "\u001b[0;31mKeyError\u001b[0m                                  Traceback (most recent call last)",
      "\u001b[0;32m<ipython-input-28-2fc702e0db3e>\u001b[0m in \u001b[0;36m<module>\u001b[0;34m\u001b[0m\n\u001b[0;32m----> 1\u001b[0;31m \u001b[0morders\u001b[0m\u001b[0;34m[\u001b[0m\u001b[0mtotals\u001b[0m\u001b[0;34m.\u001b[0m\u001b[0mmax\u001b[0m\u001b[0;34m(\u001b[0m\u001b[0;34m)\u001b[0m\u001b[0;34m]\u001b[0m\u001b[0;34m.\u001b[0m\u001b[0mhead\u001b[0m\u001b[0;34m(\u001b[0m\u001b[0;34m)\u001b[0m\u001b[0;34m\u001b[0m\u001b[0;34m\u001b[0m\u001b[0m\n\u001b[0m",
      "\u001b[0;32m/usr/local/anaconda3/lib/python3.7/site-packages/pandas/core/frame.py\u001b[0m in \u001b[0;36m__getitem__\u001b[0;34m(self, key)\u001b[0m\n\u001b[1;32m   2798\u001b[0m             \u001b[0;32mif\u001b[0m \u001b[0mself\u001b[0m\u001b[0;34m.\u001b[0m\u001b[0mcolumns\u001b[0m\u001b[0;34m.\u001b[0m\u001b[0mnlevels\u001b[0m \u001b[0;34m>\u001b[0m \u001b[0;36m1\u001b[0m\u001b[0;34m:\u001b[0m\u001b[0;34m\u001b[0m\u001b[0;34m\u001b[0m\u001b[0m\n\u001b[1;32m   2799\u001b[0m                 \u001b[0;32mreturn\u001b[0m \u001b[0mself\u001b[0m\u001b[0;34m.\u001b[0m\u001b[0m_getitem_multilevel\u001b[0m\u001b[0;34m(\u001b[0m\u001b[0mkey\u001b[0m\u001b[0;34m)\u001b[0m\u001b[0;34m\u001b[0m\u001b[0;34m\u001b[0m\u001b[0m\n\u001b[0;32m-> 2800\u001b[0;31m             \u001b[0mindexer\u001b[0m \u001b[0;34m=\u001b[0m \u001b[0mself\u001b[0m\u001b[0;34m.\u001b[0m\u001b[0mcolumns\u001b[0m\u001b[0;34m.\u001b[0m\u001b[0mget_loc\u001b[0m\u001b[0;34m(\u001b[0m\u001b[0mkey\u001b[0m\u001b[0;34m)\u001b[0m\u001b[0;34m\u001b[0m\u001b[0;34m\u001b[0m\u001b[0m\n\u001b[0m\u001b[1;32m   2801\u001b[0m             \u001b[0;32mif\u001b[0m \u001b[0mis_integer\u001b[0m\u001b[0;34m(\u001b[0m\u001b[0mindexer\u001b[0m\u001b[0;34m)\u001b[0m\u001b[0;34m:\u001b[0m\u001b[0;34m\u001b[0m\u001b[0;34m\u001b[0m\u001b[0m\n\u001b[1;32m   2802\u001b[0m                 \u001b[0mindexer\u001b[0m \u001b[0;34m=\u001b[0m \u001b[0;34m[\u001b[0m\u001b[0mindexer\u001b[0m\u001b[0;34m]\u001b[0m\u001b[0;34m\u001b[0m\u001b[0;34m\u001b[0m\u001b[0m\n",
      "\u001b[0;32m/usr/local/anaconda3/lib/python3.7/site-packages/pandas/core/indexes/base.py\u001b[0m in \u001b[0;36mget_loc\u001b[0;34m(self, key, method, tolerance)\u001b[0m\n\u001b[1;32m   2646\u001b[0m                 \u001b[0;32mreturn\u001b[0m \u001b[0mself\u001b[0m\u001b[0;34m.\u001b[0m\u001b[0m_engine\u001b[0m\u001b[0;34m.\u001b[0m\u001b[0mget_loc\u001b[0m\u001b[0;34m(\u001b[0m\u001b[0mkey\u001b[0m\u001b[0;34m)\u001b[0m\u001b[0;34m\u001b[0m\u001b[0;34m\u001b[0m\u001b[0m\n\u001b[1;32m   2647\u001b[0m             \u001b[0;32mexcept\u001b[0m \u001b[0mKeyError\u001b[0m\u001b[0;34m:\u001b[0m\u001b[0;34m\u001b[0m\u001b[0;34m\u001b[0m\u001b[0m\n\u001b[0;32m-> 2648\u001b[0;31m                 \u001b[0;32mreturn\u001b[0m \u001b[0mself\u001b[0m\u001b[0;34m.\u001b[0m\u001b[0m_engine\u001b[0m\u001b[0;34m.\u001b[0m\u001b[0mget_loc\u001b[0m\u001b[0;34m(\u001b[0m\u001b[0mself\u001b[0m\u001b[0;34m.\u001b[0m\u001b[0m_maybe_cast_indexer\u001b[0m\u001b[0;34m(\u001b[0m\u001b[0mkey\u001b[0m\u001b[0;34m)\u001b[0m\u001b[0;34m)\u001b[0m\u001b[0;34m\u001b[0m\u001b[0;34m\u001b[0m\u001b[0m\n\u001b[0m\u001b[1;32m   2649\u001b[0m         \u001b[0mindexer\u001b[0m \u001b[0;34m=\u001b[0m \u001b[0mself\u001b[0m\u001b[0;34m.\u001b[0m\u001b[0mget_indexer\u001b[0m\u001b[0;34m(\u001b[0m\u001b[0;34m[\u001b[0m\u001b[0mkey\u001b[0m\u001b[0;34m]\u001b[0m\u001b[0;34m,\u001b[0m \u001b[0mmethod\u001b[0m\u001b[0;34m=\u001b[0m\u001b[0mmethod\u001b[0m\u001b[0;34m,\u001b[0m \u001b[0mtolerance\u001b[0m\u001b[0;34m=\u001b[0m\u001b[0mtolerance\u001b[0m\u001b[0;34m)\u001b[0m\u001b[0;34m\u001b[0m\u001b[0;34m\u001b[0m\u001b[0m\n\u001b[1;32m   2650\u001b[0m         \u001b[0;32mif\u001b[0m \u001b[0mindexer\u001b[0m\u001b[0;34m.\u001b[0m\u001b[0mndim\u001b[0m \u001b[0;34m>\u001b[0m \u001b[0;36m1\u001b[0m \u001b[0;32mor\u001b[0m \u001b[0mindexer\u001b[0m\u001b[0;34m.\u001b[0m\u001b[0msize\u001b[0m \u001b[0;34m>\u001b[0m \u001b[0;36m1\u001b[0m\u001b[0;34m:\u001b[0m\u001b[0;34m\u001b[0m\u001b[0;34m\u001b[0m\u001b[0m\n",
      "\u001b[0;32mpandas/_libs/index.pyx\u001b[0m in \u001b[0;36mpandas._libs.index.IndexEngine.get_loc\u001b[0;34m()\u001b[0m\n",
      "\u001b[0;32mpandas/_libs/index.pyx\u001b[0m in \u001b[0;36mpandas._libs.index.IndexEngine.get_loc\u001b[0;34m()\u001b[0m\n",
      "\u001b[0;32mpandas/_libs/hashtable_class_helper.pxi\u001b[0m in \u001b[0;36mpandas._libs.hashtable.PyObjectHashTable.get_item\u001b[0;34m()\u001b[0m\n",
      "\u001b[0;32mpandas/_libs/hashtable_class_helper.pxi\u001b[0m in \u001b[0;36mpandas._libs.hashtable.PyObjectHashTable.get_item\u001b[0;34m()\u001b[0m\n",
      "\u001b[0;31mKeyError\u001b[0m: 8044.629999999975"
     ]
    }
   ],
   "source": []
  },
  {
   "cell_type": "code",
   "execution_count": null,
   "metadata": {},
   "outputs": [],
   "source": []
  }
 ],
 "metadata": {
  "kernelspec": {
   "display_name": "Python 3",
   "language": "python",
   "name": "python3"
  },
  "language_info": {
   "codemirror_mode": {
    "name": "ipython",
    "version": 3
   },
   "file_extension": ".py",
   "mimetype": "text/x-python",
   "name": "python",
   "nbconvert_exporter": "python",
   "pygments_lexer": "ipython3",
   "version": "3.7.6"
  }
 },
 "nbformat": 4,
 "nbformat_minor": 4
}
