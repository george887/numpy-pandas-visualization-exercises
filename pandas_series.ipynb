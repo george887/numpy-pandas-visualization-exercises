{
 "cells": [
  {
   "cell_type": "code",
   "execution_count": 26,
   "metadata": {},
   "outputs": [],
   "source": [
    "import pandas as pd\n",
    "import numpy as np"
   ]
  },
  {
   "cell_type": "code",
   "execution_count": 27,
   "metadata": {},
   "outputs": [
    {
     "data": {
      "text/plain": [
       "list"
      ]
     },
     "execution_count": 27,
     "metadata": {},
     "output_type": "execute_result"
    }
   ],
   "source": [
    "1. # a. Name the variable that holds the series fruits.\n",
    "fruits = [\"kiwi\", \"mango\", \"strawberry\", \"pineapple\", \"gala apple\", \"honeycrisp apple\", \"tomato\", \"watermelon\", \"honeydew\", \"kiwi\", \"kiwi\", \"kiwi\", \"mango\", \"blueberry\", \"blackberry\", \"gooseberry\", \"papaya\"]\n",
    "type(fruits)"
   ]
  },
  {
   "cell_type": "code",
   "execution_count": 28,
   "metadata": {},
   "outputs": [
    {
     "name": "stdout",
     "output_type": "stream",
     "text": [
      "0                 kiwi\n",
      "1                mango\n",
      "2           strawberry\n",
      "3            pineapple\n",
      "4           gala apple\n",
      "5     honeycrisp apple\n",
      "6               tomato\n",
      "7           watermelon\n",
      "8             honeydew\n",
      "9                 kiwi\n",
      "10                kiwi\n",
      "11                kiwi\n",
      "12               mango\n",
      "13           blueberry\n",
      "14          blackberry\n",
      "15          gooseberry\n",
      "16              papaya\n",
      "dtype: object\n",
      "count       17\n",
      "unique      13\n",
      "top       kiwi\n",
      "freq         4\n",
      "dtype: object\n"
     ]
    }
   ],
   "source": [
    "# Use pandas to create a Series from the following data:\n",
    "# 1.b Run .describe() on the series to see what describe returns for a series of strings.\n",
    "my_series = pd.Series(fruits)      #Creating series\n",
    "print(my_series)     #Prints my list\n",
    "print(my_series.describe())     #Prints outs the description of data\n"
   ]
  },
  {
   "cell_type": "code",
   "execution_count": 29,
   "metadata": {},
   "outputs": [
    {
     "name": "stdout",
     "output_type": "stream",
     "text": [
      "['kiwi' 'mango' 'strawberry' 'pineapple' 'gala apple' 'honeycrisp apple'\n",
      " 'tomato' 'watermelon' 'honeydew' 'blueberry' 'blackberry' 'gooseberry'\n",
      " 'papaya']\n"
     ]
    }
   ],
   "source": [
    "# 1.C Run the code necessary to produce only the unique fruit names.\n",
    "print(my_series.unique())     # the unique() function will give me all unique values\n"
   ]
  },
  {
   "cell_type": "code",
   "execution_count": 30,
   "metadata": {},
   "outputs": [
    {
     "data": {
      "text/plain": [
       "kiwi                4\n",
       "mango               2\n",
       "honeycrisp apple    1\n",
       "watermelon          1\n",
       "blackberry          1\n",
       "strawberry          1\n",
       "blueberry           1\n",
       "papaya              1\n",
       "honeydew            1\n",
       "gooseberry          1\n",
       "gala apple          1\n",
       "tomato              1\n",
       "pineapple           1\n",
       "dtype: int64"
      ]
     },
     "execution_count": 30,
     "metadata": {},
     "output_type": "execute_result"
    }
   ],
   "source": [
    "# 1 D Determine how many times each value occurs in the series.\n",
    "my_series.value_counts()     # use value_counts() on my_series"
   ]
  },
  {
   "cell_type": "code",
   "execution_count": 31,
   "metadata": {},
   "outputs": [
    {
     "data": {
      "text/plain": [
       "0    kiwi\n",
       "dtype: object"
      ]
     },
     "execution_count": 31,
     "metadata": {},
     "output_type": "execute_result"
    }
   ],
   "source": [
    "# 1 E. Determine the most frequently occurring fruit name from the series.\n",
    "my_series.mode()    # mode() function gives the most frequent occurring fruit"
   ]
  },
  {
   "cell_type": "code",
   "execution_count": 32,
   "metadata": {},
   "outputs": [
    {
     "data": {
      "text/plain": [
       "honeycrisp apple    1\n",
       "watermelon          1\n",
       "blackberry          1\n",
       "strawberry          1\n",
       "blueberry           1\n",
       "papaya              1\n",
       "honeydew            1\n",
       "gooseberry          1\n",
       "gala apple          1\n",
       "tomato              1\n",
       "pineapple           1\n",
       "dtype: int64"
      ]
     },
     "execution_count": 32,
     "metadata": {},
     "output_type": "execute_result"
    }
   ],
   "source": [
    "#1 F. Determine the least frequently occurring fruit name from the series.\n",
    "least_freq = my_series.value_counts().nsmallest(keep='all')\n",
    "least_freq"
   ]
  },
  {
   "cell_type": "code",
   "execution_count": 33,
   "metadata": {},
   "outputs": [
    {
     "data": {
      "text/plain": [
       "16"
      ]
     },
     "execution_count": 33,
     "metadata": {},
     "output_type": "execute_result"
    }
   ],
   "source": [
    "#1 G. Write the code to get the longest string from the fruits series.\n",
    "my_series.str.len().max()"
   ]
  },
  {
   "cell_type": "code",
   "execution_count": 34,
   "metadata": {},
   "outputs": [
    {
     "data": {
      "text/plain": [
       "2           strawberry\n",
       "3            pineapple\n",
       "4           gala apple\n",
       "5     honeycrisp apple\n",
       "6               tomato\n",
       "7           watermelon\n",
       "8             honeydew\n",
       "13           blueberry\n",
       "14          blackberry\n",
       "15          gooseberry\n",
       "16              papaya\n",
       "dtype: object"
      ]
     },
     "execution_count": 34,
     "metadata": {},
     "output_type": "execute_result"
    }
   ],
   "source": [
    "#1. H. Find the fruit(s) with 5 or more letters in the name.\n",
    "char_length = my_series[my_series.str.len() > 5]\n",
    "char_length \n"
   ]
  },
  {
   "cell_type": "code",
   "execution_count": 35,
   "metadata": {},
   "outputs": [
    {
     "data": {
      "text/plain": [
       "0                 KIWI\n",
       "1                MANGO\n",
       "2           STRAWBERRY\n",
       "3            PINEAPPLE\n",
       "4           GALA APPLE\n",
       "5     HONEYCRISP APPLE\n",
       "6               TOMATO\n",
       "7           WATERMELON\n",
       "8             HONEYDEW\n",
       "9                 KIWI\n",
       "10                KIWI\n",
       "11                KIWI\n",
       "12               MANGO\n",
       "13           BLUEBERRY\n",
       "14          BLACKBERRY\n",
       "15          GOOSEBERRY\n",
       "16              PAPAYA\n",
       "dtype: object"
      ]
     },
     "execution_count": 35,
     "metadata": {},
     "output_type": "execute_result"
    }
   ],
   "source": [
    "#1. I. Capitalize all the fruit strings in the series.\n",
    "my_series.str.upper()"
   ]
  },
  {
   "cell_type": "code",
   "execution_count": 36,
   "metadata": {},
   "outputs": [
    {
     "data": {
      "text/plain": [
       "0     0\n",
       "1     1\n",
       "2     1\n",
       "3     1\n",
       "4     3\n",
       "5     1\n",
       "6     1\n",
       "7     1\n",
       "8     0\n",
       "9     0\n",
       "10    0\n",
       "11    0\n",
       "12    1\n",
       "13    0\n",
       "14    1\n",
       "15    0\n",
       "16    3\n",
       "dtype: int64"
      ]
     },
     "execution_count": 36,
     "metadata": {},
     "output_type": "execute_result"
    }
   ],
   "source": [
    "#1 J. Count the letter \"a\" in all the fruits (use string vectorization)\n",
    "my_series.str.count(\"a\")"
   ]
  },
  {
   "cell_type": "code",
   "execution_count": 37,
   "metadata": {},
   "outputs": [
    {
     "name": "stdout",
     "output_type": "stream",
     "text": [
      "0     2\n",
      "1     2\n",
      "2     2\n",
      "3     4\n",
      "4     4\n",
      "5     5\n",
      "6     3\n",
      "7     4\n",
      "8     3\n",
      "9     2\n",
      "10    2\n",
      "11    2\n",
      "12    2\n",
      "13    3\n",
      "14    2\n",
      "15    4\n",
      "16    3\n",
      "dtype: int64\n"
     ]
    }
   ],
   "source": [
    "#1. K. Output the number of vowels in each and every fruit.\n",
    "fruits = pd.Series(fruits)\n",
    "num_of_vowels = fruits.str.count('a') + fruits.str.count('e') + fruits.str.count('i') +fruits.str.count('o') + fruits.str.count('u')\n",
    "print(num_of_vowels)"
   ]
  },
  {
   "cell_type": "code",
   "execution_count": 113,
   "metadata": {},
   "outputs": [
    {
     "data": {
      "text/plain": [
       "49"
      ]
     },
     "execution_count": 113,
     "metadata": {},
     "output_type": "execute_result"
    }
   ],
   "source": [
    "num_vowels = sum(fruits.str.count('[aeiou]'))\n",
    "num_vowels"
   ]
  },
  {
   "cell_type": "code",
   "execution_count": 38,
   "metadata": {},
   "outputs": [
    {
     "data": {
      "text/plain": [
       "6         tomato\n",
       "15    gooseberry\n",
       "dtype: object"
      ]
     },
     "execution_count": 38,
     "metadata": {},
     "output_type": "execute_result"
    }
   ],
   "source": [
    "# 1. L. Use the .apply method and a lambda function to find the fruit(s) containing two or more \"o\" \n",
    "# letters in the name.\n",
    "contains_2_or_more_o = my_series.apply(lambda string: string.count('o') >= 2)\n",
    "my_series[contains_2_or_more_o]\n"
   ]
  },
  {
   "cell_type": "code",
   "execution_count": 184,
   "metadata": {},
   "outputs": [
    {
     "name": "stdout",
     "output_type": "stream",
     "text": [
      "0     False\n",
      "1     False\n",
      "2      True\n",
      "3     False\n",
      "4     False\n",
      "5     False\n",
      "6     False\n",
      "7     False\n",
      "8     False\n",
      "9     False\n",
      "10    False\n",
      "11    False\n",
      "12    False\n",
      "13     True\n",
      "14     True\n",
      "15     True\n",
      "16    False\n",
      "dtype: bool\n",
      "2     strawberry\n",
      "13     blueberry\n",
      "14    blackberry\n",
      "15    gooseberry\n",
      "dtype: object\n"
     ]
    }
   ],
   "source": [
    "#1.M Write the code to get only the fruits containing \"berry\" in the name\n",
    "berry_fruit = \"berry\"\n",
    "contains_berry = my_series.str.count(berry_fruit) > 0\n",
    "print(contains_berry)\n",
    "print(my_series[contains_berry])\n"
   ]
  },
  {
   "cell_type": "code",
   "execution_count": 40,
   "metadata": {},
   "outputs": [
    {
     "data": {
      "text/plain": [
       "3           pineapple\n",
       "4          gala apple\n",
       "5    honeycrisp apple\n",
       "dtype: object"
      ]
     },
     "execution_count": 40,
     "metadata": {},
     "output_type": "execute_result"
    }
   ],
   "source": [
    "#1 N. Write the code to get only the fruits containing \"apple\" in the name\n",
    "apple_fruit = 'apple'\n",
    "contains_apple = my_series.str.count(apple_fruit) > 0    # > 0 turn the list into a boolean where i can refer back to in my_series\n",
    "my_series[contains_apple]"
   ]
  },
  {
   "cell_type": "code",
   "execution_count": 41,
   "metadata": {},
   "outputs": [
    {
     "data": {
      "text/plain": [
       "'honeycrisp apple'"
      ]
     },
     "execution_count": 41,
     "metadata": {},
     "output_type": "execute_result"
    }
   ],
   "source": [
    "#1. O. Which fruit has the highest amount of vowels?\n",
    "index_of_highest_vowels = num_of_vowels.argmax()    # argmax() gives the index of highest value\n",
    "my_series[index_of_highest_vowels]"
   ]
  },
  {
   "cell_type": "code",
   "execution_count": 42,
   "metadata": {},
   "outputs": [],
   "source": [
    "# Use pandas to create a Series from the following data:\n",
    "\n",
    "\n",
    "numbers = ['$796,459.41', '$278.60', '$482,571.67', '$4,503,915.98', '$2,121,418.3', '$1,260,813.3', '$87,231.01', '$1,509,175.45', '$4,138,548.00', '$2,848,913.80', '$594,715.39', '$4,789,988.17', '$4,513,644.5', '$3,191,059.97', '$1,758,712.24', '$4,338,283.54', '$4,738,303.38', '$2,791,759.67', '$769,681.94', '$452,650.23']"
   ]
  },
  {
   "cell_type": "code",
   "execution_count": 43,
   "metadata": {},
   "outputs": [],
   "source": [
    "numbers = pd.Series(numbers)"
   ]
  },
  {
   "cell_type": "code",
   "execution_count": 44,
   "metadata": {},
   "outputs": [
    {
     "data": {
      "text/plain": [
       "pandas.core.series.Series"
      ]
     },
     "execution_count": 44,
     "metadata": {},
     "output_type": "execute_result"
    }
   ],
   "source": [
    "2# What is the data type of the series?\n",
    "type(numbers)"
   ]
  },
  {
   "cell_type": "code",
   "execution_count": 45,
   "metadata": {},
   "outputs": [
    {
     "data": {
      "text/plain": [
       "0      796459.41\n",
       "1         278.60\n",
       "2      482571.67\n",
       "3     4503915.98\n",
       "4     2121418.30\n",
       "5     1260813.30\n",
       "6       87231.01\n",
       "7     1509175.45\n",
       "8     4138548.00\n",
       "9     2848913.80\n",
       "10     594715.39\n",
       "11    4789988.17\n",
       "12    4513644.50\n",
       "13    3191059.97\n",
       "14    1758712.24\n",
       "15    4338283.54\n",
       "16    4738303.38\n",
       "17    2791759.67\n",
       "18     769681.94\n",
       "19     452650.23\n",
       "dtype: float64"
      ]
     },
     "execution_count": 45,
     "metadata": {},
     "output_type": "execute_result"
    }
   ],
   "source": [
    "2# Use series operations to convert the series to a numeric data type.\n",
    "money_sign_removed = pd.Series(numbers).str.replace('$', '')\n",
    "comma_removed = money_sign_removed.str.replace(',', '')\n",
    "num_float = comma_removed.astype('float')\n",
    "num_float"
   ]
  },
  {
   "cell_type": "code",
   "execution_count": 46,
   "metadata": {},
   "outputs": [
    {
     "data": {
      "text/plain": [
       "4789988.17"
      ]
     },
     "execution_count": 46,
     "metadata": {},
     "output_type": "execute_result"
    }
   ],
   "source": [
    "#2 What is the maximum value? The minimum?\n",
    "num_float.max()"
   ]
  },
  {
   "cell_type": "code",
   "execution_count": 47,
   "metadata": {},
   "outputs": [
    {
     "data": {
      "text/plain": [
       "(-4511.11, 1197705.993]       7\n",
       "(3592560.778, 4789988.17]     6\n",
       "(1197705.993, 2395133.385]    4\n",
       "(2395133.385, 3592560.778]    3\n",
       "dtype: int64"
      ]
     },
     "execution_count": 47,
     "metadata": {},
     "output_type": "execute_result"
    }
   ],
   "source": [
    "#2 Bin the data into 4 equally sized intervals and show how many values fall into each bin.\n",
    "bins = pd.cut(num_float, 4)\n",
    "bin_values = bins.value_counts()\n",
    "bin_values"
   ]
  },
  {
   "cell_type": "code",
   "execution_count": 48,
   "metadata": {},
   "outputs": [
    {
     "data": {
      "image/png": "[encoded data removed]",
      "text/plain": [
       "<Figure size 432x288 with 1 Axes>"
      ]
     },
     "metadata": {
      "needs_background": "light"
     },
     "output_type": "display_data"
    }
   ],
   "source": [
    "#2 Plot a histogram of the data. Be sure to include a title and axis labels.\n",
    "import matplotlib.pyplot as plt\n",
    "plt.hist(bin_values)\n",
    "plt.show()"
   ]
  },
  {
   "cell_type": "code",
   "execution_count": 49,
   "metadata": {},
   "outputs": [
    {
     "data": {
      "image/png": "[encoded data removed]",
      "text/plain": [
       "<Figure size 432x288 with 1 Axes>"
      ]
     },
     "metadata": {
      "needs_background": "light"
     },
     "output_type": "display_data"
    }
   ],
   "source": [
    "bin_values.plot.bar(width = 0.8)\n",
    "plt.xticks(rotation = 45)\n",
    "plt.title('Cash Distribution')\n",
    "plt.xlabel(\"Cash\")\n",
    "plt.ylabel(\"Y axis label\")\n",
    "plt.show()\n"
   ]
  },
  {
   "cell_type": "code",
   "execution_count": 50,
   "metadata": {},
   "outputs": [
    {
     "data": {
      "text/plain": [
       "pandas.core.series.Series"
      ]
     },
     "execution_count": 50,
     "metadata": {},
     "output_type": "execute_result"
    }
   ],
   "source": [
    "#3. Use pandas to create a Series from the following exam scores:\n",
    "scores = [60, 86, 75, 62, 93, 71, 60, 83, 95, 78, 65, 72, 69, 81, 96, 80, 85, 92, 82, 78]\n",
    "scores = pd.Series(scores)\n",
    "type(scores)"
   ]
  },
  {
   "cell_type": "code",
   "execution_count": 51,
   "metadata": {},
   "outputs": [
    {
     "name": "stdout",
     "output_type": "stream",
     "text": [
      "96\n",
      "78.15\n",
      "78.15\n",
      "79.0\n"
     ]
    }
   ],
   "source": [
    "# What is the minimum exam score? The max, mean, median?\n",
    "import statistics\n",
    "print(scores.max())\n",
    "print(scores.sum()/len(scores))\n",
    "print(statistics.mean(scores))\n",
    "print(statistics.median(scores))\n"
   ]
  },
  {
   "cell_type": "code",
   "execution_count": 52,
   "metadata": {},
   "outputs": [
    {
     "data": {
      "image/png": "[encoded data removed]",
      "text/plain": [
       "<Figure size 432x288 with 1 Axes>"
      ]
     },
     "metadata": {
      "needs_background": "light"
     },
     "output_type": "display_data"
    }
   ],
   "source": [
    "#3 Plot a histogram of the scores.\n",
    "plt.hist(scores)\n",
    "plt.show()"
   ]
  },
  {
   "cell_type": "code",
   "execution_count": 53,
   "metadata": {},
   "outputs": [
    {
     "name": "stdout",
     "output_type": "stream",
     "text": [
      "C    6\n",
      "B    5\n",
      "A    4\n",
      "D    3\n",
      "F    2\n",
      "dtype: int64\n"
     ]
    }
   ],
   "source": [
    "# Convert each of the numbers above into a letter grade. For example, 86 should be a 'B' and 95 should \n",
    "# be an 'A'.\n",
    "\n",
    "# we cut scores into bins with corresponding grade labels\n",
    "grade_dist = pd.cut(scores, bins = [0,60,70,80,90,100], labels = ['F','D','C','B','A'])\n",
    "print(grade_dist.value_counts())     #Show the distribution of grades"
   ]
  },
  {
   "cell_type": "code",
   "execution_count": 153,
   "metadata": {},
   "outputs": [
    {
     "data": {
      "image/png": "[encoded data removed]",
      "text/plain": [
       "<Figure size 432x288 with 1 Axes>"
      ]
     },
     "metadata": {
      "needs_background": "light"
     },
     "output_type": "display_data"
    }
   ],
   "source": [
    "\n",
    "plt.title('Grade Distribution')\n",
    "plt.xlabel(\"Letter Grade\")\n",
    "plt.ylabel(\"Frequency\")\n",
    "plt.hist(grade_dist)\n",
    "plt.show()"
   ]
  },
  {
   "cell_type": "code",
   "execution_count": 55,
   "metadata": {},
   "outputs": [
    {
     "name": "stdout",
     "output_type": "stream",
     "text": [
      "96\n",
      "4\n",
      "0      64\n",
      "1      90\n",
      "2      79\n",
      "3      66\n",
      "4      97\n",
      "5      75\n",
      "6      64\n",
      "7      87\n",
      "8      99\n",
      "9      82\n",
      "10     69\n",
      "11     76\n",
      "12     73\n",
      "13     85\n",
      "14    100\n",
      "15     84\n",
      "16     89\n",
      "17     96\n",
      "18     86\n",
      "19     82\n",
      "dtype: int64\n"
     ]
    }
   ],
   "source": [
    "# Write the code necessary to implement a curve. I.e. that grade closest to 100 should be converted\n",
    "# to a 100, and that many points should be given to every other score as well.\n",
    "print(scores.max())\n",
    "points_given_back = 100 - scores.max()\n",
    "print(points_given_back)\n",
    "new_scores = points_given_back + scores\n",
    "print(new_scores)\n"
   ]
  },
  {
   "cell_type": "code",
   "execution_count": 74,
   "metadata": {},
   "outputs": [
    {
     "data": {
      "text/plain": [
       "y    13\n",
       "p    12\n",
       "w    10\n",
       "n     9\n",
       "m     9\n",
       "b     9\n",
       "k     9\n",
       "c     8\n",
       "h     8\n",
       "q     8\n",
       "r     8\n",
       "a     8\n",
       "x     8\n",
       "d     8\n",
       "o     8\n",
       "u     7\n",
       "v     7\n",
       "z     7\n",
       "t     7\n",
       "j     6\n",
       "e     6\n",
       "f     6\n",
       "i     5\n",
       "g     5\n",
       "s     5\n",
       "l     4\n",
       "dtype: int64"
      ]
     },
     "execution_count": 74,
     "metadata": {},
     "output_type": "execute_result"
    }
   ],
   "source": [
    "# Use pandas to create a Series from the following string:\n",
    "long_string = list('hnvidduckkqxwymbimkccexbkmqygkxoyndmcxnwqarhyffsjpsrabtjzsypmzadfavyrnndndvswreauxovncxtwzpwejilzjrmmbbgbyxvjtewqthafnbkqplarokkyydtubbmnexoypulzwfhqvckdpqtpoppzqrmcvhhpwgjwupgzhiofohawytlsiyecuproguy')\n",
    "long_string = pd.Series(long_string)\n",
    "long_string.value_counts() # Shows the distribution of letters with frequency of letters"
   ]
  },
  {
   "cell_type": "code",
   "execution_count": 84,
   "metadata": {},
   "outputs": [
    {
     "name": "stdout",
     "output_type": "stream",
     "text": [
      "0    y\n",
      "dtype: object\n",
      "y    13\n",
      "dtype: int64\n",
      "l    4\n",
      "dtype: int64\n"
     ]
    }
   ],
   "source": [
    "#4. What is the most frequently occuring letter? Least frequently occuring?\n",
    "import statistics\n",
    "print(long_string.mode()) #mode will give the most freq occuring letter\n",
    "print(long_string.value_counts().iloc[[0]]) # iloc to display the first letter in the series in value_counts w/ corresponding value\n",
    "print(long_string.value_counts().iloc[[-1]]) # iloc to display last letter in values_counts which corresponds w/ letter l"
   ]
  },
  {
   "cell_type": "code",
   "execution_count": 119,
   "metadata": {},
   "outputs": [
    {
     "data": {
      "text/plain": [
       "0    166\n",
       "1     34\n",
       "dtype: int64"
      ]
     },
     "execution_count": 119,
     "metadata": {},
     "output_type": "execute_result"
    }
   ],
   "source": [
    "# How many vowels are in the list?\n",
    "num_of_vowels = long_string.str.count('a') + long_string.str.count('e') + long_string.str.count('i') +long_string.str.count('o') + long_string.str.count('u')\n",
    "num_of_vowels # shows a 0 for false or consonant and 1 for true if there is a vowel\n",
    "num_of_vowels.value_counts() # show 34 vowels\n"
   ]
  },
  {
   "cell_type": "code",
   "execution_count": 105,
   "metadata": {},
   "outputs": [
    {
     "data": {
      "text/plain": [
       "34"
      ]
     },
     "execution_count": 105,
     "metadata": {},
     "output_type": "execute_result"
    }
   ],
   "source": [
    "# How many vowels are in the list? Alt finding\n",
    "num_vowels = sum(long_string.str.count('[aeiou]')) #created a count list of vowels\n",
    "num_vowels"
   ]
  },
  {
   "cell_type": "code",
   "execution_count": 121,
   "metadata": {},
   "outputs": [
    {
     "data": {
      "text/plain": [
       "166"
      ]
     },
     "execution_count": 121,
     "metadata": {},
     "output_type": "execute_result"
    }
   ],
   "source": [
    "# How many consonants are in the list?\n",
    "num_of_consonants = sum(long_string.str.count('[^aeiou]')) #created a count list not in vowels\n",
    "num_of_consonants"
   ]
  },
  {
   "cell_type": "code",
   "execution_count": 124,
   "metadata": {},
   "outputs": [
    {
     "data": {
      "text/plain": [
       "0      H\n",
       "1      N\n",
       "2      V\n",
       "3      I\n",
       "4      D\n",
       "      ..\n",
       "195    R\n",
       "196    O\n",
       "197    G\n",
       "198    U\n",
       "199    Y\n",
       "Length: 200, dtype: object"
      ]
     },
     "execution_count": 124,
     "metadata": {},
     "output_type": "execute_result"
    }
   ],
   "source": [
    "# Create a series that has all of the same letters, but uppercased\n",
    "long_string.str.upper()"
   ]
  },
  {
   "cell_type": "code",
   "execution_count": 143,
   "metadata": {},
   "outputs": [
    {
     "data": {
      "text/plain": [
       "y    13\n",
       "p    12\n",
       "w    10\n",
       "n     9\n",
       "m     9\n",
       "b     9\n",
       "dtype: int64"
      ]
     },
     "execution_count": 143,
     "metadata": {},
     "output_type": "execute_result"
    }
   ],
   "source": [
    "# Create a bar plot of the frequencies of the 6 most frequently occuring letters.\n",
    "import matplotlib\n",
    "frequency = long_string.value_counts().head() #shows the top 5 frequent letter (index letter, number of letters)\n",
    "frequency = long_string.value_counts().head(6) #shows the top 6 frequent letters (index letter, number of letters)\n",
    "print(frequency)\n",
    "\n"
   ]
  },
  {
   "cell_type": "code",
   "execution_count": 152,
   "metadata": {},
   "outputs": [
    {
     "data": {
      "text/plain": [
       "<BarContainer object of 6 artists>"
      ]
     },
     "execution_count": 152,
     "metadata": {},
     "output_type": "execute_result"
    },
    {
     "data": {
      "image/png": "[encoded data removed]",
      "text/plain": [
       "<Figure size 432x288 with 1 Axes>"
      ]
     },
     "metadata": {
      "needs_background": "light"
     },
     "output_type": "display_data"
    }
   ],
   "source": [
    "plt.title('Top 6 letters in long_string')\n",
    "plt.xlabel(\"Letters\")\n",
    "plt.ylabel(\"Frequency\")\n",
    "x = frequency.index # labeled my x axis as the index or letter\n",
    "y = frequency # labeled my y axis as the frequency of the letter\n",
    "plt.bar(x,y)"
   ]
  },
  {
   "cell_type": "code",
   "execution_count": null,
   "metadata": {},
   "outputs": [],
   "source": [
    "# 17 list comprehension problems in python\n",
    "\n",
    "fruits = ['mango', 'kiwi', 'strawberry', 'guava', 'pineapple', 'mandarin orange']\n",
    "\n",
    "numbers = [2, 3, 4, 5, 6, 7, 8, 9, 10, 11, 13, 17, 19, 23, 256, -8, -4, -2, 5, -9]\n"
   ]
  },
  {
   "cell_type": "code",
   "execution_count": 157,
   "metadata": {},
   "outputs": [
    {
     "name": "stdout",
     "output_type": "stream",
     "text": [
      "<class 'pandas.core.series.Series'>\n",
      "0       3\n",
      "1       4\n",
      "2       5\n",
      "3       6\n",
      "4       7\n",
      "5       8\n",
      "6       9\n",
      "7      10\n",
      "8      11\n",
      "9      12\n",
      "10     14\n",
      "11     18\n",
      "12     20\n",
      "13     24\n",
      "14    257\n",
      "15     -7\n",
      "16     -3\n",
      "17     -1\n",
      "18      6\n",
      "19     -8\n",
      "dtype: int64\n"
     ]
    }
   ],
   "source": [
    "numbers = [2, 3, 4, 5, 6, 7, 8, 9, 10, 11, 13, 17, 19, 23, 256, -8, -4, -2, 5, -9]\n",
    "numbers = pd.Series(numbers)\n",
    "print(type(numbers))\n",
    "# Example for loop solution to add 1 to each number in the list\n",
    "numbers_plus_one = []\n",
    "for number in numbers:\n",
    "    numbers_plus_one.append(number + 1)\n",
    "    \n",
    "print(numbers + 1)\n"
   ]
  },
  {
   "cell_type": "code",
   "execution_count": 158,
   "metadata": {},
   "outputs": [
    {
     "name": "stdout",
     "output_type": "stream",
     "text": [
      "0       3\n",
      "1       4\n",
      "2       5\n",
      "3       6\n",
      "4       7\n",
      "5       8\n",
      "6       9\n",
      "7      10\n",
      "8      11\n",
      "9      12\n",
      "10     14\n",
      "11     18\n",
      "12     20\n",
      "13     24\n",
      "14    257\n",
      "15     -7\n",
      "16     -3\n",
      "17     -1\n",
      "18      6\n",
      "19     -8\n",
      "dtype: int64\n"
     ]
    }
   ],
   "source": [
    "# Example of using a list comprehension to create a list of the numbers plus one.\n",
    "numbers_plus_one = [number + 1 for number in numbers]\n",
    "\n",
    "print(numbers + 1)\n"
   ]
  },
  {
   "cell_type": "code",
   "execution_count": 160,
   "metadata": {},
   "outputs": [
    {
     "name": "stdout",
     "output_type": "stream",
     "text": [
      "0              MANGO\n",
      "1               KIWI\n",
      "2         STRAWBERRY\n",
      "3              GUAVA\n",
      "4          PINEAPPLE\n",
      "5    MANDARIN ORANGE\n",
      "dtype: object\n"
     ]
    }
   ],
   "source": [
    "fruits = ['mango', 'kiwi', 'strawberry', 'guava', 'pineapple', 'mandarin orange']\n",
    "fruits = pd.Series(fruits)\n",
    "# Example code that creates a list of all of the list of strings in fruits and uppercases every string\n",
    "output = []\n",
    "for fruit in fruits:\n",
    "    output.append(fruit.upper())\n",
    "\n",
    "print(fruits.str.upper())"
   ]
  },
  {
   "cell_type": "code",
   "execution_count": 161,
   "metadata": {},
   "outputs": [
    {
     "name": "stdout",
     "output_type": "stream",
     "text": [
      "0              MANGO\n",
      "1               KIWI\n",
      "2         STRAWBERRY\n",
      "3              GUAVA\n",
      "4          PINEAPPLE\n",
      "5    MANDARIN ORANGE\n",
      "dtype: object\n"
     ]
    }
   ],
   "source": [
    "# Exercise 1 - rewrite the above example code using list comprehension syntax. Make a variable named \n",
    "# uppercased_fruits to hold the output of the list comprehension. Output should be ['MANGO', 'KIWI', etc...]\n",
    "print(fruits.str.upper())\n"
   ]
  },
  {
   "cell_type": "code",
   "execution_count": 162,
   "metadata": {},
   "outputs": [
    {
     "name": "stdout",
     "output_type": "stream",
     "text": [
      "0              Mango\n",
      "1               Kiwi\n",
      "2         Strawberry\n",
      "3              Guava\n",
      "4          Pineapple\n",
      "5    Mandarin orange\n",
      "dtype: object\n"
     ]
    }
   ],
   "source": [
    "# Exercise 2 - create a variable named capitalized_fruits and use list comprehension syntax to produce \n",
    "# output like ['Mango', 'Kiwi', 'Strawberry', etc...]\n",
    "\n",
    "print(fruits.str.capitalize())\n",
    "\n"
   ]
  },
  {
   "cell_type": "code",
   "execution_count": 186,
   "metadata": {},
   "outputs": [
    {
     "name": "stdout",
     "output_type": "stream",
     "text": [
      "0    2\n",
      "1    2\n",
      "2    2\n",
      "3    3\n",
      "4    4\n",
      "5    6\n",
      "dtype: int64\n",
      "0    False\n",
      "1    False\n",
      "2    False\n",
      "3     True\n",
      "4     True\n",
      "5     True\n",
      "dtype: bool\n",
      "3              guava\n",
      "4          pineapple\n",
      "5    mandarin orange\n",
      "dtype: object\n"
     ]
    }
   ],
   "source": [
    "# Exercise 3 - Use a list comprehension to make a variable named fruits_with_more_than_two_vowels. \n",
    "# Hint: You'll need a way to check if something is a vowel.\n",
    "vowels = fruits.str.count('[aeiou]')\n",
    "print(vowels)\n",
    "fruits_with_more_than_two_vowels = vowels > 2\n",
    "print(fruits_with_more_than_two_vowels)\n",
    "print(fruits[fruits_with_more_than_two_vowels])"
   ]
  },
  {
   "cell_type": "code",
   "execution_count": 189,
   "metadata": {},
   "outputs": [
    {
     "name": "stdout",
     "output_type": "stream",
     "text": [
      "0     True\n",
      "1     True\n",
      "2     True\n",
      "3    False\n",
      "4    False\n",
      "5    False\n",
      "dtype: bool\n",
      "[0         mango\n",
      "1          kiwi\n",
      "2    strawberry\n",
      "dtype: object]\n"
     ]
    }
   ],
   "source": [
    "# Exercise 4 - make a variable named fruits_with_only_two_vowels. The result should be \n",
    "# ['mango', 'kiwi', 'strawberry']\n",
    "fruits_with_only_two_vowels = vowels == 2\n",
    "print(fruits_with_only_two_vowels)\n",
    "print([fruits[fruits_with_only_two_vowels]])\n",
    "\n"
   ]
  },
  {
   "cell_type": "code",
   "execution_count": 195,
   "metadata": {},
   "outputs": [
    {
     "name": "stdout",
     "output_type": "stream",
     "text": [
      "0    False\n",
      "1    False\n",
      "2     True\n",
      "3    False\n",
      "4     True\n",
      "5     True\n",
      "dtype: bool\n",
      "[2         strawberry\n",
      "4          pineapple\n",
      "5    mandarin orange\n",
      "dtype: object]\n"
     ]
    }
   ],
   "source": [
    "# Exercise 5 - make a list that contains each fruit with more than 5 characters\n",
    "char_length = fruits.str.len() > 5\n",
    "print(char_length)\n",
    "print([fruits[char_length]])\n"
   ]
  },
  {
   "cell_type": "code",
   "execution_count": 196,
   "metadata": {},
   "outputs": [
    {
     "name": "stdout",
     "output_type": "stream",
     "text": [
      "0     True\n",
      "1    False\n",
      "2    False\n",
      "3     True\n",
      "4    False\n",
      "5    False\n",
      "dtype: bool\n",
      "[0    mango\n",
      "3    guava\n",
      "dtype: object]\n"
     ]
    }
   ],
   "source": [
    "# Exercise 6 - make a list that contains each fruit with exactly 5 characters\n",
    "char_length = fruits.str.len() == 5\n",
    "print(char_length)\n",
    "print([fruits[char_length]])"
   ]
  },
  {
   "cell_type": "code",
   "execution_count": 197,
   "metadata": {},
   "outputs": [
    {
     "name": "stdout",
     "output_type": "stream",
     "text": [
      "0    False\n",
      "1     True\n",
      "2    False\n",
      "3    False\n",
      "4    False\n",
      "5    False\n",
      "dtype: bool\n",
      "[1    kiwi\n",
      "dtype: object]\n"
     ]
    }
   ],
   "source": [
    "# Exercise 7 - Make a list that contains fruits that have less than 5 characters\n",
    "char_length = fruits.str.len() < 5\n",
    "print(char_length)\n",
    "print([fruits[char_length]])"
   ]
  },
  {
   "cell_type": "code",
   "execution_count": 198,
   "metadata": {},
   "outputs": [
    {
     "name": "stdout",
     "output_type": "stream",
     "text": [
      "0     5\n",
      "1     4\n",
      "2    10\n",
      "3     5\n",
      "4     9\n",
      "5    15\n",
      "dtype: int64\n"
     ]
    }
   ],
   "source": [
    "# Exercise 8 - Make a list containing the number of characters in each fruit. Output would be [5, 4, 10, etc... ]\n",
    "num_of_char = fruits.str.len()\n",
    "print(num_of_char)\n"
   ]
  },
  {
   "cell_type": "code",
   "execution_count": 202,
   "metadata": {},
   "outputs": [
    {
     "name": "stdout",
     "output_type": "stream",
     "text": [
      "0    1\n",
      "1    0\n",
      "2    1\n",
      "3    2\n",
      "4    1\n",
      "5    3\n",
      "dtype: int64\n",
      "[1          kiwi\n",
      "0         mango\n",
      "1          kiwi\n",
      "2    strawberry\n",
      "1          kiwi\n",
      "3         guava\n",
      "dtype: object]\n"
     ]
    }
   ],
   "source": [
    "# Exercise 9 - Make a variable named fruits_with_letter_a that contains a list of only the fruits \n",
    "# that contain the letter \"a\"\n",
    "fruits_with_letter_a = fruits.str.count('a')\n",
    "print(fruits_with_letter_a)\n",
    "print([fruits[fruits_with_letter_a]])\n",
    "\n"
   ]
  },
  {
   "cell_type": "code",
   "execution_count": 209,
   "metadata": {},
   "outputs": [
    {
     "name": "stdout",
     "output_type": "stream",
     "text": [
      "0      True\n",
      "1     False\n",
      "2      True\n",
      "3     False\n",
      "4      True\n",
      "5     False\n",
      "6      True\n",
      "7     False\n",
      "8      True\n",
      "9     False\n",
      "10    False\n",
      "11    False\n",
      "12    False\n",
      "13    False\n",
      "14     True\n",
      "15     True\n",
      "16     True\n",
      "17     True\n",
      "18    False\n",
      "19    False\n",
      "dtype: bool\n",
      "[0       2\n",
      "2       4\n",
      "4       6\n",
      "6       8\n",
      "8      10\n",
      "14    256\n",
      "15     -8\n",
      "16     -4\n",
      "17     -2\n",
      "dtype: int64]\n"
     ]
    }
   ],
   "source": [
    "# Exercise 10 - Make a variable named even_numbers that holds only the even numbers \n",
    "numbers = [2, 3, 4, 5, 6, 7, 8, 9, 10, 11, 13, 17, 19, 23, 256, -8, -4, -2, 5, -9]\n",
    "numbers = pd.Series(numbers)\n",
    "even_numbers = numbers % 2 == 0 \n",
    "print(even_numbers)\n",
    "print([numbers[even_numbers]])"
   ]
  },
  {
   "cell_type": "code",
   "execution_count": 211,
   "metadata": {},
   "outputs": [
    {
     "name": "stdout",
     "output_type": "stream",
     "text": [
      "0     False\n",
      "1      True\n",
      "2     False\n",
      "3      True\n",
      "4     False\n",
      "5      True\n",
      "6     False\n",
      "7      True\n",
      "8     False\n",
      "9      True\n",
      "10     True\n",
      "11     True\n",
      "12     True\n",
      "13     True\n",
      "14    False\n",
      "15    False\n",
      "16    False\n",
      "17    False\n",
      "18     True\n",
      "19     True\n",
      "dtype: bool\n",
      "[1      3\n",
      "3      5\n",
      "5      7\n",
      "7      9\n",
      "9     11\n",
      "10    13\n",
      "11    17\n",
      "12    19\n",
      "13    23\n",
      "18     5\n",
      "19    -9\n",
      "dtype: int64]\n"
     ]
    }
   ],
   "source": [
    "# Exercise 11 - Make a variable named odd_numbers that holds only the odd numbers\n",
    "odd_numbers = numbers % 2 == 1\n",
    "print(odd_numbers)\n",
    "print([numbers[odd_numbers]])"
   ]
  },
  {
   "cell_type": "code",
   "execution_count": 213,
   "metadata": {},
   "outputs": [
    {
     "name": "stdout",
     "output_type": "stream",
     "text": [
      "0      True\n",
      "1      True\n",
      "2      True\n",
      "3      True\n",
      "4      True\n",
      "5      True\n",
      "6      True\n",
      "7      True\n",
      "8      True\n",
      "9      True\n",
      "10     True\n",
      "11     True\n",
      "12     True\n",
      "13     True\n",
      "14     True\n",
      "15    False\n",
      "16    False\n",
      "17    False\n",
      "18     True\n",
      "19    False\n",
      "dtype: bool\n",
      "[0       2\n",
      "1       3\n",
      "2       4\n",
      "3       5\n",
      "4       6\n",
      "5       7\n",
      "6       8\n",
      "7       9\n",
      "8      10\n",
      "9      11\n",
      "10     13\n",
      "11     17\n",
      "12     19\n",
      "13     23\n",
      "14    256\n",
      "18      5\n",
      "dtype: int64]\n"
     ]
    }
   ],
   "source": [
    "# Exercise 12 - Make a variable named positive_numbers that holds only the positive numbers\n",
    "positive_numbers = numbers > 0\n",
    "print(positive_numbers)\n",
    "print([numbers[positive_numbers]])"
   ]
  },
  {
   "cell_type": "code",
   "execution_count": 214,
   "metadata": {},
   "outputs": [
    {
     "name": "stdout",
     "output_type": "stream",
     "text": [
      "0     False\n",
      "1     False\n",
      "2     False\n",
      "3     False\n",
      "4     False\n",
      "5     False\n",
      "6     False\n",
      "7     False\n",
      "8     False\n",
      "9     False\n",
      "10    False\n",
      "11    False\n",
      "12    False\n",
      "13    False\n",
      "14    False\n",
      "15     True\n",
      "16     True\n",
      "17     True\n",
      "18    False\n",
      "19     True\n",
      "dtype: bool\n",
      "[15   -8\n",
      "16   -4\n",
      "17   -2\n",
      "19   -9\n",
      "dtype: int64]\n"
     ]
    }
   ],
   "source": [
    "# Exercise 13 - Make a variable named negative_numbers that holds only the negative numbers\n",
    "negative_numbers = numbers < 0\n",
    "print(negative_numbers)\n",
    "print([numbers[negative_numbers]])"
   ]
  },
  {
   "cell_type": "code",
   "execution_count": 218,
   "metadata": {},
   "outputs": [
    {
     "name": "stdout",
     "output_type": "stream",
     "text": [
      "0     False\n",
      "1     False\n",
      "2     False\n",
      "3     False\n",
      "4     False\n",
      "5     False\n",
      "6     False\n",
      "7     False\n",
      "8      True\n",
      "9      True\n",
      "10     True\n",
      "11     True\n",
      "12     True\n",
      "13     True\n",
      "14     True\n",
      "15    False\n",
      "16    False\n",
      "17    False\n",
      "18    False\n",
      "19    False\n",
      "dtype: bool\n",
      "[8      10\n",
      "9      11\n",
      "10     13\n",
      "11     17\n",
      "12     19\n",
      "13     23\n",
      "14    256\n",
      "dtype: int64]\n"
     ]
    }
   ],
   "source": [
    "# Exercise 14 - use a list comprehension w/ a conditional in order to produce a list of numbers with \n",
    "# 2 or more numerals\n",
    "two_or_more_nums = abs(numbers) > 9\n",
    "print(two_or_more_nums)\n",
    "print([numbers[two_or_more_nums]])\n",
    "\n"
   ]
  },
  {
   "cell_type": "code",
   "execution_count": 221,
   "metadata": {},
   "outputs": [
    {
     "name": "stdout",
     "output_type": "stream",
     "text": [
      "0         4\n",
      "1         9\n",
      "2        16\n",
      "3        25\n",
      "4        36\n",
      "5        49\n",
      "6        64\n",
      "7        81\n",
      "8       100\n",
      "9       121\n",
      "10      169\n",
      "11      289\n",
      "12      361\n",
      "13      529\n",
      "14    65536\n",
      "15       64\n",
      "16       16\n",
      "17        4\n",
      "18       25\n",
      "19       81\n",
      "dtype: int64\n"
     ]
    }
   ],
   "source": [
    "# Exercise 15 - Make a variable named numbers_squared that contains the numbers list with each \n",
    "# element squared. Output is [4, 9, 16, etc...]\n",
    "numbers_squared = numbers ** 2\n",
    "print(numbers_squared)\n"
   ]
  },
  {
   "cell_type": "code",
   "execution_count": 225,
   "metadata": {},
   "outputs": [
    {
     "name": "stdout",
     "output_type": "stream",
     "text": [
      "0     False\n",
      "1     False\n",
      "2     False\n",
      "3     False\n",
      "4     False\n",
      "5     False\n",
      "6     False\n",
      "7     False\n",
      "8     False\n",
      "9     False\n",
      "10    False\n",
      "11    False\n",
      "12    False\n",
      "13    False\n",
      "14    False\n",
      "15    False\n",
      "16    False\n",
      "17    False\n",
      "18    False\n",
      "19     True\n",
      "dtype: bool\n",
      "[19   -9\n",
      "dtype: int64]\n"
     ]
    }
   ],
   "source": [
    "# Exercise 16 - Make a variable named odd_negative_numbers that contains only the numbers that are both\n",
    "# odd and negative.\n",
    "odd_negative_numbers = (numbers % 2 == 1) & (numbers < 0)\n",
    "print(odd_negative_numbers)\n",
    "print([numbers[odd_negative_numbers]])"
   ]
  },
  {
   "cell_type": "code",
   "execution_count": 226,
   "metadata": {},
   "outputs": [
    {
     "name": "stdout",
     "output_type": "stream",
     "text": [
      "0       7\n",
      "1       8\n",
      "2       9\n",
      "3      10\n",
      "4      11\n",
      "5      12\n",
      "6      13\n",
      "7      14\n",
      "8      15\n",
      "9      16\n",
      "10     18\n",
      "11     22\n",
      "12     24\n",
      "13     28\n",
      "14    261\n",
      "15     -3\n",
      "16      1\n",
      "17      3\n",
      "18     10\n",
      "19     -4\n",
      "dtype: int64\n"
     ]
    }
   ],
   "source": [
    "# Exercise 17 - Make a variable named numbers_plus_5. In it, return a list containing each number plus five. \n",
    "numbers_plus_5 = numbers + 5\n",
    "print(numbers_plus_5)\n"
   ]
  },
  {
   "cell_type": "code",
   "execution_count": 230,
   "metadata": {},
   "outputs": [
    {
     "name": "stdout",
     "output_type": "stream",
     "text": [
      "0      2\n",
      "1      3\n",
      "3      5\n",
      "5      7\n",
      "9     11\n",
      "10    13\n",
      "11    17\n",
      "12    19\n",
      "13    23\n",
      "18     5\n",
      "dtype: int64\n"
     ]
    }
   ],
   "source": [
    "# BONUS Make a variable named \"primes\" that is a list containing the prime numbers in the numbers list.\n",
    "# *Hint* you may want to make or find a helper function that determines if a given number is prime or not.\n",
    "# creating function that tests for prime numbers\n",
    "def prime_test(num):\n",
    "    if (num <= 1):\n",
    "        return False\n",
    "    elif (num <= 3):\n",
    "        return True\n",
    "    elif (num % 2 == 0 or num % 3 == 0):\n",
    "        return False\n",
    "    else:\n",
    "        for x in range(2,num):\n",
    "            if(num % x == 0):\n",
    "                return False\n",
    "        return True\n",
    "\n",
    "# lambda applying each number from series to verify if prime or not\n",
    "primes = numbers[numbers.apply(lambda num: prime_test(num))]\n",
    "\n",
    "print(primes)"
   ]
  },
  {
   "cell_type": "code",
   "execution_count": null,
   "metadata": {},
   "outputs": [],
   "source": []
  }
 ],
 "metadata": {
  "kernelspec": {
   "display_name": "Python 3",
   "language": "python",
   "name": "python3"
  },
  "language_info": {
   "codemirror_mode": {
    "name": "ipython",
    "version": 3
   },
   "file_extension": ".py",
   "mimetype": "text/x-python",
   "name": "python",
   "nbconvert_exporter": "python",
   "pygments_lexer": "ipython3",
   "version": "3.7.6"
  }
 },
 "nbformat": 4,
 "nbformat_minor": 4
}
